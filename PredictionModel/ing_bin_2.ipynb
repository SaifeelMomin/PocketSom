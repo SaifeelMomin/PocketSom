{
 "cells": [
  {
   "cell_type": "code",
   "execution_count": 1,
   "metadata": {},
   "outputs": [],
   "source": [
    "import pandas as pd \n",
    "from bs4 import BeautifulSoup\n",
    "import requests\n",
    "import re\n",
    "import random\n",
    "\n",
    "df = pd.read_csv('wine_pairings_v6.csv', index_col = 'wine')\n",
    "\n",
    "#creates a new dataframe removing the bigger reds for vegetarian pairings\n",
    "no_protein_remove = ['bold red', 'medium red']\n",
    "df2 = df[~df['style'].isin(no_protein_remove)]"
   ]
  },
  {
   "cell_type": "code",
   "execution_count": 2,
   "metadata": {},
   "outputs": [
    {
     "data": {
      "text/plain": [
       "Index(['style', 'acid', 'red_meat', 'cured_meat', 'game', 'pork', 'poultry',\n",
       "       'fish', 'shellfish', 'mollusk', 'green_veg', 'root_veg', 'allium',\n",
       "       'nightshade', 'hot_pepper', 'bean', 'fungi', 'fresh_green',\n",
       "       'earthy_green', 'bitter_floral', 'savory_brown', 'sharp_spicy',\n",
       "       'perfumed_citrus_spicy', 'smoky_spicy', 'umami_spicy', 'baking_spice',\n",
       "       'anise', 'butter_cream', 'fresh_salty', 'delicate_nutty', 'strong_firm',\n",
       "       'pungent'],\n",
       "      dtype='object')"
      ]
     },
     "execution_count": 2,
     "metadata": {},
     "output_type": "execute_result"
    }
   ],
   "source": [
    "df.columns"
   ]
  },
  {
   "cell_type": "markdown",
   "metadata": {},
   "source": [
    "## model build "
   ]
  },
  {
   "cell_type": "code",
   "execution_count": 3,
   "metadata": {},
   "outputs": [],
   "source": [
    "def recipe_info(url):\n",
    "    recipe_search = requests.get(url).text\n",
    "    soup_recipe = BeautifulSoup(recipe_search, \"html.parser\")\n",
    "    try:\n",
    "        ingr_soup = soup_recipe.find_all(\"span\", class_ = 'ingredients-item-name')\n",
    "    except: \n",
    "        ingr_soup = soup_recipe.find_all(\"span\", class_ = \"recipe-ingred_txt added\")\n",
    "    ## ingredients\n",
    "    ing_list = []\n",
    "    for i in ingr_soup:\n",
    "        ing = i.text\n",
    "        ing_clean = ing.strip()\n",
    "        ing_list.append(ing_clean)\n",
    "    return ing_list\n",
    "def listToString(s):  \n",
    "    str1 = \" \"  \n",
    "    return (str1.join(s))\n",
    "\n",
    "def ing_classifier(s):\n",
    "    bin_bool = {}\n",
    "    for key in bin_dict:\n",
    "        bin_bool[key] = bool([ele for ele in bin_dict[key] if (ele in s)])\n",
    "    return bin_bool \n",
    "\n",
    "\n",
    "# classifiers for ingredient subsets, helps to identify vegetarian dishes and unpairable recipes\n",
    "def protein_classifier(s):\n",
    "    protein_bool = {}\n",
    "    for key in protein_dict:\n",
    "        protein_bool[key] = bool([ele for ele in protein_dict[key] if (ele in s)])\n",
    "    return protein_bool \n",
    "def veg_classifier(s):\n",
    "    veg_bool = {}\n",
    "    for key in veg_dict:\n",
    "        veg_bool[key] = bool([ele for ele in veg_dict[key] if (ele in s)])\n",
    "    return veg_bool \n"
   ]
  },
  {
   "cell_type": "code",
   "execution_count": 16,
   "metadata": {},
   "outputs": [],
   "source": [
    "protein_dict = {}\n",
    "#meat\n",
    "protein_dict['red_meat'] = ['beef', 'hamburger', 'steak', 'ground round', 'veal', 'bison', 'buffalo', 'lamb', 'mutton', 'goat', 'venison', 'deer', 'elk', 'caribou', 'moose']\n",
    "protein_dict['pork'] = ['pork', 'boar', 'pig', 'bratwurst', 'italian sausage', 'ham', 'knackwurst', 'frankfurter', 'hot dog', 'sausage']\n",
    "protein_dict['poultry'] = ['chicken', 'turkey']\n",
    "protein_dict['game'] = ['duck', 'pheasant', 'rabbit', 'quail', 'lapin', 'goose', 'grouse']\n",
    "protein_dict['cured_meat'] = ['charcuterie', 'salumi','bacon', 'pancetta', 'mortadella', 'salami', 'pepperoni', 'pancetta', 'guanciale', 'capocollo', 'soppressata', 'pastrami', 'jamon iberico', 'bresaola', 'nduja', 'jamon serrano']\n",
    "protein_dict['fish'] = ['salmon', 'tuna', 'trout', 'bass', 'seabass', 'snapper', 'cod', 'steelhead', 'yellowtail', 'hamachi', 'kampachi', 'amberjack', 'yellowjack', 'yellow jack', 'tilapia', 'mahi-mahi', 'flounder', 'halibut', 'swordfish', 'anchovy', 'sardine', 'catfish', 'grouper', 'haddock', 'mackerel', 'perch', 'whitefish', 'white fish', 'smelt']\n",
    "protein_dict['shellfish'] = ['crab', 'lobster', 'crawfish', 'crayfish', 'langostino', 'shrimp', 'prawn', 'dungeness']\n",
    "protein_dict['mollusk'] = ['oyster', 'cuttlefish', 'clam', 'scallop', 'octopus', 'squid', 'conch', 'mussel', 'periwinkle']\n",
    "\n",
    "bin_dict = {}\n",
    "#meat\n",
    "bin_dict['red_meat'] = ['beef', 'hamburger', 'steak', 'ground round', 'veal', 'bison', 'buffalo', 'lamb', 'mutton', 'goat', 'venison', 'deer', 'elk', 'caribou', 'moose']\n",
    "bin_dict['pork'] = ['pork', 'boar', 'pig', 'bratwurst', 'italian sausage', 'ham', 'knackwurst', 'frankfurter', 'hot dog', 'sausage']\n",
    "bin_dict['poultry'] = ['chicken', 'turkey']\n",
    "bin_dict['game'] = ['duck', 'pheasant', 'rabbit', 'quail', 'lapin', 'goose', 'grouse']\n",
    "bin_dict['cured_meat'] = ['charcuterie', 'salumi','bacon', 'pancetta', 'mortadella', 'salami', 'pepperoni', 'pancetta', 'guanciale', 'capocollo', 'soppressata', 'pastrami', 'jamon iberico', 'bresaola', 'nduja', 'jamon serrano']\n",
    "bin_dict['fish'] = ['salmon', 'tuna', 'trout', 'bass', 'seabass', 'snapper', 'cod', 'steelhead', 'yellowtail', 'hamachi', 'kampachi', 'amberjack', 'yellowjack', 'yellow jack', 'tilapia', 'mahi-mahi', 'flounder', 'halibut', 'swordfish', 'anchovy', 'sardine', 'catfish', 'grouper', 'haddock', 'mackerel', 'perch', 'whitefish', 'white fish', 'smelt']\n",
    "bin_dict['shellfish'] = ['crab', 'lobster', 'crawfish', 'crayfish', 'langostino', 'shrimp', 'prawn', 'dungeness']\n",
    "bin_dict['mollusk'] = ['oyster', 'cuttlefish', 'clam', 'scallop', 'octopus', 'squid', 'conch', 'mussel', 'periwinkle']\n",
    "#herb\n",
    "bin_dict['fresh_green'] = ['cilantro', 'basil', 'thai basil', 'mint', 'chervil', 'peppermint', 'borage', 'chamomile']\n",
    "bin_dict['earthy_green'] = ['parsley', 'oregano', 'thyme', 'tarragon', 'marjoram', 'dill']\n",
    "bin_dict['bitter_floral'] = ['sage', 'rosemary', 'lavender', 'bay leaf', 'pine', 'fir']\n",
    "bin_dict['savory_brown'] = ['coriander', 'cumin', 'caraway', 'curry powder']\n",
    "bin_dict['sharp_spicy'] = ['mustard', 'horseradish', 'szechuan pepper', 'wasabi']\n",
    "bin_dict['perfumed_citrus_spicy'] = ['ginger', 'gingerroot', 'sorrel', 'galangal', 'turmeric', 'cardamom', 'saffron']\n",
    "bin_dict['smoky_spicy'] = ['paprika', 'cayenne pepper', 'chili powder', 'chili pepper', 'ancho pepper', 'chili flakes', 'ancho chili', 'alleppo pepper', 'adobo', 'chipotle', 'chilpotle']\n",
    "bin_dict['umami_spicy'] = ['white pepper', 'pink pepper', 'black pepper', 'green pepper', 'white peppercorn', 'pink peppercorn', 'black peppercorn', 'green peppercorn', 'soy sauce', 'olive']\n",
    "bin_dict['baking_spice'] = ['cinnamon', 'clove', 'allspice', 'fenugreek', 'vanilla', 'nutmeg']\n",
    "bin_dict['anise'] = ['anise', 'licorice', 'star anise', 'fennel', 'celery']\n",
    "#cheese\n",
    "bin_dict['butter_cream'] = ['butter', 'heavy cream', 'cream cheese', 'sour cream', 'half and half', 'margarine']\n",
    "bin_dict['fresh_salty'] = ['goat cheese', 'chevre', 'feta', 'cotilla', 'queso fresco', 'oaxaca', 'halloumi',  'fromage blanc', 'cottage cheese', 'sour cream', 'paneer']\n",
    "bin_dict['delicate_nutty'] = ['brie', 'comte', 'comté', 'gruyere', 'havarti', 'mascarpone', 'mozzarella', 'creme fraiche', 'crème fraîche','ricotta', 'mascarpone', 'swiss cheese', 'emmental', 'raclette', 'colby', 'jack cheese', 'provolone', 'burrata', 'triple cream', 'morbier', 'camembert', 'boursin', 'fontina']\n",
    "bin_dict['strong_firm'] = ['asiago', 'cheddar', 'gouda', 'manchego', 'parmesan', 'pecorino', 'cheshire', 'cantal', 'munster', 'parmagiano', 'iberico cheese', 'queso iberico', 'quexo iberico', 'idiazabal']\n",
    "bin_dict['pungent'] = ['blue cheese', 'epoisses', 'époisses', 'gorgonzola', 'roquefort', 'stilton', 'taleggio', 'valdeon']\n",
    "#veg\n",
    "bin_dict['acid'] = ['lemon', 'lemons', 'lime', 'limes', 'vinegar', 'tomato', 'tomatoes', 'white wine']\n",
    "bin_dict['green_veg'] = ['lettuce', 'cabbage', 'spinach', 'kale', 'watercress', 'brussels sprout', 'zucchini', 'okra', 'asparagus', 'artichoke', 'cucumber', 'collard', 'chard', 'green bean', 'endive', 'broccolini', 'avocado', 'romanesco', 'cauliflower']\n",
    "bin_dict['root_veg'] = ['sweet potato', 'squash', 'pumpkin', 'carrot', 'carrots', 'turnip', 'turnips', 'beet', 'beets', 'radish', 'radishes', 'parsnip', 'parsnips', 'daikon', 'rutabaga', 'salsify', 'yam', 'yuca', 'yucca', 'butternut', 'gourd']\n",
    "bin_dict['allium'] = ['onion', 'garlic', 'shallot', 'chive', 'scallion', 'leek', 'ramps']\n",
    "bin_dict['nightshade'] = ['potato', 'bell pepper', 'tomato', 'tomatoes', 'eggplant', 'tomatillo', 'potatoes', 'bell peppers', 'pizza sauce']\n",
    "bin_dict['hot_pepper'] = ['jalapeno', 'jalapeño', 'habanero', 'birdseye', 'thai chili', 'chili pepper', 'chilies', 'tabasco', 'chile paste', 'chili paste']\n",
    "bin_dict['bean'] = ['bean', 'chickpea', 'lentil', 'edamame', 'pea']\n",
    "bin_dict['fungi'] = ['mushroom', 'mushrooms', 'chantarelle', 'shitake', 'crimini', 'cremini', 'oyster mushroom', 'porcini', 'maitake', 'portobello', 'champignon', 'boletus', 'hen of the woods', 'truffle']\n",
    "\n",
    "veg_dict = {}\n",
    "#veg\n",
    "veg_dict['acid'] = ['lemon', 'lemons', 'lime', 'limes', 'vinegar', 'tomato', 'tomatoes', 'white wine']\n",
    "veg_dict['green_veg'] = ['lettuce', 'cabbage', 'spinach', 'kale', 'watercress', 'brussels sprout', 'zucchini', 'okra', 'asparagus', 'artichoke', 'cucumber', 'collard', 'chard', 'green bean', 'endive', 'broccolini', 'avocado', 'romanesco', 'cauliflower']\n",
    "veg_dict['root_veg'] = ['sweet potato', 'squash', 'pumpkin', 'carrot', 'carrots', 'turnip', 'turnips', 'beet', 'beets', 'radish', 'radishes', 'parsnip', 'parsnips', 'daikon', 'rutabaga', 'salsify', 'yam', 'yuca', 'yucca', 'butternut', 'gourd']\n",
    "veg_dict['allium'] = ['onion', 'garlic', 'shallot', 'chive', 'scallion', 'leek', 'ramps']\n",
    "veg_dict['nightshade'] = ['potato', 'bell pepper', 'tomato', 'tomatoes', 'eggplant', 'tomatillo', 'potatoes', 'bell peppers', 'pizza sauce']\n",
    "veg_dict['hot_pepper'] = ['jalapeno', 'jalapeño', 'habanero', 'birdseye', 'thai chili', 'chili pepper', 'chilies', 'tabasco', 'chile paste', 'chili paste']\n",
    "veg_dict['bean'] = ['bean', 'chickpea', 'lentil', 'edamame', 'pea']\n",
    "veg_dict['fungi'] = ['mushroom', 'mushrooms', 'chantarelle', 'shitake', 'crimini', 'cremini', 'oyster mushroom', 'porcini', 'maitake', 'portobello', 'champignon', 'boletus', 'hen of the woods', 'truffle']\n",
    "veg_dict['red_meat'] = ['beef', 'hamburger', 'steak', 'ground round', 'veal', 'bison', 'buffalo', 'lamb', 'mutton', 'goat', 'venison', 'deer', 'elk', 'caribou', 'moose']\n",
    "veg_dict['pork'] = ['pork', 'boar', 'pig', 'bratwurst', 'italian sausage', 'ham', 'knackwurst', 'frankfurter', 'hot dog', 'sausage']\n",
    "veg_dict['poultry'] = ['chicken', 'turkey']\n",
    "veg_dict['game'] = ['duck', 'pheasant', 'rabbit', 'quail', 'lapin', 'goose', 'grouse']\n",
    "veg_dict['cured_meat'] = ['charcuterie', 'salumi','bacon', 'pancetta', 'mortadella', 'salami', 'pepperoni', 'pancetta', 'guanciale', 'capocollo', 'soppressata', 'pastrami', 'jamon iberico', 'bresaola', 'nduja', 'jamon serrano']\n",
    "veg_dict['fish'] = ['salmon', 'tuna', 'trout', 'bass', 'seabass', 'snapper', 'cod', 'steelhead', 'yellowtail', 'hamachi', 'kampachi', 'amberjack', 'yellowjack', 'yellow jack', 'tilapia', 'mahi-mahi', 'flounder', 'halibut', 'swordfish', 'anchovy', 'sardine', 'catfish', 'grouper', 'haddock', 'mackerel', 'perch', 'whitefish', 'white fish', 'smelt']\n",
    "veg_dict['shellfish'] = ['crab', 'lobster', 'crawfish', 'crayfish', 'langostino', 'shrimp', 'prawn', 'dungeness']\n",
    "veg_dict['mollusk'] = ['oyster', 'cuttlefish', 'clam', 'scallop', 'octopus', 'squid', 'conch', 'mussel', 'periwinkle']"
   ]
  },
  {
   "cell_type": "code",
   "execution_count": 17,
   "metadata": {},
   "outputs": [
    {
     "data": {
      "text/plain": [
       "{'red_meat': True,\n",
       " 'pork': False,\n",
       " 'poultry': False,\n",
       " 'game': False,\n",
       " 'cured_meat': False,\n",
       " 'fish': False,\n",
       " 'shellfish': False,\n",
       " 'mollusk': False,\n",
       " 'fresh_green': False,\n",
       " 'earthy_green': False,\n",
       " 'bitter_floral': False,\n",
       " 'savory_brown': False,\n",
       " 'sharp_spicy': True,\n",
       " 'perfumed_citrus_spicy': False,\n",
       " 'smoky_spicy': False,\n",
       " 'umami_spicy': True,\n",
       " 'baking_spice': True,\n",
       " 'anise': False,\n",
       " 'butter_cream': False,\n",
       " 'fresh_salty': False,\n",
       " 'delicate_nutty': False,\n",
       " 'strong_firm': False,\n",
       " 'pungent': False,\n",
       " 'acid': True,\n",
       " 'green_veg': False,\n",
       " 'root_veg': False,\n",
       " 'allium': True,\n",
       " 'nightshade': False,\n",
       " 'hot_pepper': False,\n",
       " 'bean': False,\n",
       " 'fungi': False}"
      ]
     },
     "execution_count": 17,
     "metadata": {},
     "output_type": "execute_result"
    }
   ],
   "source": [
    "t = recipe_info('https://www.allrecipes.com/recipe/18074/marinated-flank-steak/?internalSource=hub%20recipe&referringContentType=Search&clickId=cardslot%204')\n",
    "s = listToString(t)\n",
    "test = ing_classifier(s)\n",
    "test"
   ]
  },
  {
   "cell_type": "code",
   "execution_count": 18,
   "metadata": {},
   "outputs": [],
   "source": [
    "#wineSeries = pd.Series()\n",
    "def boolToPredict(t): \n",
    "    temp_df = pd.DataFrame()\n",
    "    for key in t:\n",
    "        if t[key] == True:\n",
    "            temp_df0 = df[key].sort_values(ascending = False)[0:100]\n",
    "            temp_df = temp_df.append(temp_df0)      \n",
    "    bool_df = temp_df.T\n",
    "    x = bool_df.fillna(0)\n",
    "    x['sums'] = x.sum(axis = 1)\n",
    "    predicts = x.sort_values('sums', ascending = False).index.values[0:3]\n",
    "    return predicts\n",
    "p = boolToPredict(test)        \n",
    "#print([key, temp_df])\n",
    "\n",
    "\n",
    "#Same function, just run on df2 (no big reds)\n",
    "def boolToPredictVeg(t):\n",
    "    temp_df = pd.DataFrame()\n",
    "    for key in t:\n",
    "        if t[key] == True:\n",
    "            temp_df0 = df2[key].sort_values(ascending = False)[0:100]\n",
    "            temp_df = temp_df.append(temp_df0)      \n",
    "    bool_df = temp_df.T\n",
    "    x = bool_df.fillna(0)\n",
    "    x['sums'] = x.sum(axis = 1)\n",
    "    predicts = x.sort_values('sums', ascending = False).index.values[0:3]\n",
    "    return predicts\n",
    "p = boolToPredict(test) "
   ]
  },
  {
   "cell_type": "code",
   "execution_count": 19,
   "metadata": {},
   "outputs": [
    {
     "data": {
      "text/plain": [
       "array(['syrah', 'malbec', 'cabernet sauvignon'], dtype=object)"
      ]
     },
     "execution_count": 19,
     "metadata": {},
     "output_type": "execute_result"
    }
   ],
   "source": [
    "p"
   ]
  },
  {
   "cell_type": "markdown",
   "metadata": {},
   "source": [
    "## scrape and test"
   ]
  },
  {
   "cell_type": "code",
   "execution_count": 20,
   "metadata": {},
   "outputs": [],
   "source": [
    "df_food = pd.read_csv(\"cleaned_ingredients.csv\")\n",
    "food_raw = df_food[\"ingredients\"]\n",
    "rnames = df_food['name']\n",
    "rnames = rnames[2:202]\n",
    "sample = food_raw[2:202]"
   ]
  },
  {
   "cell_type": "code",
   "execution_count": 21,
   "metadata": {},
   "outputs": [
    {
     "data": {
      "text/plain": [
       "'lou s fabulous bruschetta'"
      ]
     },
     "execution_count": 21,
     "metadata": {},
     "output_type": "execute_result"
    }
   ],
   "source": [
    "rnames[2]"
   ]
  },
  {
   "cell_type": "code",
   "execution_count": 22,
   "metadata": {},
   "outputs": [],
   "source": [
    "l1 = sample[2]\n",
    "def str_clean(s):\n",
    "    raw_ing = s.strip(\"[]\")\n",
    "    raw_ing = raw_ing.replace(\"'\", \"\")\n",
    "    raw_ing = raw_ing.split(\",\")\n",
    "    clean_ing = listToString(raw_ing)\n",
    "    return clean_ing\n",
    "s1 = str_clean(l1)    \n",
    "test1 = ing_classifier(s1)\n",
    "food_clean = []\n",
    "for f in sample:\n",
    "    ci = str_clean(f)\n",
    "    food_clean.append(ci)\n"
   ]
  },
  {
   "cell_type": "code",
   "execution_count": null,
   "metadata": {},
   "outputs": [],
   "source": []
  },
  {
   "cell_type": "code",
   "execution_count": 23,
   "metadata": {},
   "outputs": [],
   "source": [
    "scrapePredicts = []\n",
    "for f in food_clean:\n",
    "    protein = protein_classifier(f)\n",
    "    veg = veg_classifier(f)\n",
    "    \n",
    "    #if no protein or veg ingredients returns 'invalid pairing'\n",
    "    \n",
    "    if all(x == False for x in veg.values()):\n",
    "        i = 'invalid pairing'\n",
    "        scrapePredicts.append(i)\n",
    "        \n",
    "    #if no protein ingredients runs booltopredict on df with no big reds\n",
    "    \n",
    "    elif all(x == False for x in protein.values()):\n",
    "        t = ing_classifier(f)\n",
    "        v = boolToPredictVeg(t)\n",
    "        scrapePredicts.append(v)\n",
    "        \n",
    "    #original function\n",
    "    \n",
    "    else:\n",
    "        t = ing_classifier(f)\n",
    "        p = boolToPredict(t)\n",
    "        scrapePredicts.append(p)"
   ]
  },
  {
   "cell_type": "code",
   "execution_count": 24,
   "metadata": {},
   "outputs": [],
   "source": [
    "testPredictions = pd.DataFrame(rnames)\n",
    "testPredictions['ingredients'] = food_clean\n",
    "testPredictions['Predicts'] = scrapePredicts"
   ]
  },
  {
   "cell_type": "code",
   "execution_count": 25,
   "metadata": {},
   "outputs": [],
   "source": [
    "testPredictions.to_csv('testPredictions.csv')"
   ]
  },
  {
   "cell_type": "code",
   "execution_count": null,
   "metadata": {},
   "outputs": [],
   "source": []
  },
  {
   "cell_type": "code",
   "execution_count": null,
   "metadata": {},
   "outputs": [],
   "source": []
  }
 ],
 "metadata": {
  "kernelspec": {
   "display_name": "Python 3",
   "language": "python",
   "name": "python3"
  },
  "language_info": {
   "codemirror_mode": {
    "name": "ipython",
    "version": 3
   },
   "file_extension": ".py",
   "mimetype": "text/x-python",
   "name": "python",
   "nbconvert_exporter": "python",
   "pygments_lexer": "ipython3",
   "version": "3.7.5"
  }
 },
 "nbformat": 4,
 "nbformat_minor": 4
}
