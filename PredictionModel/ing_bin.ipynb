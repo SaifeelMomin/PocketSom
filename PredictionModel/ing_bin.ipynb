{
 "cells": [
  {
   "cell_type": "code",
   "execution_count": 1,
   "metadata": {},
   "outputs": [],
   "source": [
    "import pandas as pd \n",
    "from bs4 import BeautifulSoup\n",
    "import requests\n",
    "import re\n",
    "\n",
    "df = pd.read_csv('binPairings.csv', index_col = 'wine')"
   ]
  },
  {
   "cell_type": "code",
   "execution_count": 2,
   "metadata": {},
   "outputs": [],
   "source": [
    "def recipe_info(url):\n",
    "    recipe_search = requests.get(url).text\n",
    "    soup_recipe = BeautifulSoup(recipe_search, \"html.parser\")\n",
    "    try:\n",
    "        ingr_soup = soup_recipe.find_all(\"span\", class_ = 'ingredients-item-name')\n",
    "    except: \n",
    "        ingr_soup = soup_recipe.find_all(\"span\", class_ = \"recipe-ingred_txt added\")\n",
    "    ## ingredients\n",
    "    ing_list = []\n",
    "    for i in ingr_soup:\n",
    "        ing = i.text\n",
    "        ing_clean = ing.strip()\n",
    "        ing_list.append(ing_clean)\n",
    "    return ing_list\n",
    "def listToString(s):  \n",
    "    str1 = \" \"  \n",
    "    return (str1.join(s))\n",
    "\n",
    "def ing_classifier(s):\n",
    "    bin_bool = {}\n",
    "    for key in bin_dict:\n",
    "        bin_bool[key] = bool([ele for ele in bin_dict[key] if (ele in s)])\n",
    "    return bin_bool "
   ]
  },
  {
   "cell_type": "code",
   "execution_count": 3,
   "metadata": {},
   "outputs": [],
   "source": [
    "bin_dict = {}\n",
    "#meat\n",
    "bin_dict['red_meat'] = ['beef', 'hamburger', 'steak', 'veal', 'bison', 'buffalo', 'lamb', 'mutton', 'goat', 'venison', 'deer', 'elk', 'caribou', 'moose']\n",
    "bin_dict['porks'] = ['pork', 'boar', 'pig', 'bratwurst', 'italian sausage', 'ham']\n",
    "bin_dict['poultry'] = ['chicken', 'turkey']\n",
    "bin_dict['game'] = ['duck', 'pheasant', 'rabbit', 'quail', 'lapin', 'goose', 'grouse']\n",
    "bin_dict['cured_meats'] = ['charcuterie', 'salumi','bacon', 'pancetta', 'mortadella', 'salami', 'pepperoni', 'pancetta', 'guanciale', 'capocollo', 'soppressata', 'pastrami', 'jamon iberico', 'bresaola', 'nduja', 'jamon serrano']\n",
    "bin_dict['fish'] = ['salmon', 'tuna', 'trout', 'bass', 'seabass', 'snapper', 'cod', 'steelhead', 'yellowtail', 'hamachi', 'kampachi', 'amberjack', 'yellowjack', 'yellow jack', 'tilapia', 'mahi-mahi', 'flounder', 'halibut', 'swordfish', 'anchovy', 'sardine', 'catfish', 'grouper', 'haddock', 'mackerel', 'perch', 'whitefish', 'white fish', 'smelt']\n",
    "bin_dict['shellfish'] = ['crab', 'lobster', 'crawfish', 'crayfish', 'langostino', 'shrimp', 'prawn', 'dungeness']\n",
    "bin_dict['mollusk'] = ['oyster', 'cuttlefish', 'clam', 'scallop', 'octopus', 'squid', 'conch', 'mussel', 'periwinkle']\n",
    "#herb\n",
    "bin_dict['fresh_green'] = ['cilantro', 'basil', 'thai basil', 'mint', 'chervil', 'peppermint', 'borage', 'chamomile']\n",
    "bin_dict['earthy_green'] = ['parsley', 'oregano', 'thyme', 'tarragon', 'marjoram', 'dill']\n",
    "bin_dict['bitter_floral'] = ['sage', 'rosemary', 'lavender', 'bay leaf', 'pine', 'fir']\n",
    "bin_dict['allium_spice'] = ['garlic', 'onion', 'scallion', 'chive', 'shallot', 'leek']\n",
    "bin_dict['savory_brown'] = ['coriander', 'cumin', 'caraway', 'curry powder']\n",
    "bin_dict['sharp_spicy'] = ['mustard', 'horseradish', 'szechuan pepper', 'wasabi']\n",
    "bin_dict['perfumed_citrus_spicy'] = ['ginger', 'sorrel', 'galangal', 'turmeric', 'cardamom', 'saffron']\n",
    "bin_dict['smokey_spicy'] = ['paprika', 'cayenne pepper', 'chili powder', 'chili pepper', 'ancho pepper', 'chili flakes', 'ancho chili', 'alleppo pepper', 'adobo', 'chipotle', 'chilpotle']\n",
    "bin_dict['umami_spicy'] = ['white pepper', 'pink pepper', 'black pepper', 'green pepper', 'white peppercorn', 'pink peppercorn', 'black peppercorn', 'green peppercorn', 'soy sauce', 'olive']\n",
    "bin_dict['baking_spice'] = ['cinnamon', 'clove', 'allspice', 'fenugreek', 'vanilla', 'nutmeg']\n",
    "bin_dict['anise'] = ['anise', 'licorice', 'star anise', 'fennel', 'celery']\n",
    "#cheese\n",
    "bin_dict['fresh_salty'] = ['goat cheese', 'chevre', 'feta', 'cotilla', 'queso fresco', 'oaxaca', 'halloumi',  'fromage blanc', 'cottage cheese', 'sour cream', 'paneer']\n",
    "bin_dict['delicate_nutty'] = ['brie', 'comte', 'comté', 'gruyere', 'havarti', 'mascarpone', 'mozzarella', 'creme fraiche', 'crème fraîche','ricotta', 'mascarpone', 'swiss cheese', 'emmental', 'raclette', 'colby', 'jack cheese', 'provolone', 'burrata', 'triple cream', 'morbier', 'camembert', 'boursin', 'fontina']\n",
    "bin_dict['strong_firm'] = ['asiago', 'cheddar', 'gouda', 'manchego', 'parmesan', 'pecorino', 'cheshire', 'cantal', 'munster', 'parmagiano', 'iberico cheese', 'queso iberico', 'quexo iberico', 'idiazabal']\n",
    "bin_dict['pungent'] = ['blue cheese', 'epoisses', 'époisses', 'gorgonzola', 'roquefort', 'stilton', 'taleggio', 'valdeon']\n",
    "#prep\n",
    "bin_dict['grilled_barbequed'] = ['grilled', 'grill', 'barbeque', 'bbq', 'barbequed', 'bbqd']\n",
    "bin_dict['roasted'] = ['roast', 'roasted', 'bake', 'baked']\n",
    "bin_dict['smoked'] = ['smoke', 'smoked']\n",
    "bin_dict['poached_steamed'] = ['poach', 'poached', 'steam', 'steamed', 'boil', 'boiled']\n",
    "bin_dict['sauteed_fried'] = ['sautee', 'sautée', 'sauteed', 'sautéed', 'fried', 'fry', 'sear', 'pan-fry', 'pan-fried', 'pan-sear', 'pan-seared', 'sear', 'seared', 'deep-fry']\n",
    "#veg\n",
    "bin_dict['green_veg'] = ['lettuce', 'cabbage', 'spinach', 'kale', 'watercress', 'brussels sprout', 'zucchini', 'okra', 'asparagus', 'artichoke', 'cucumber', 'collard', 'chard', 'green bean', 'endive', 'broccolini', 'avocado', 'romanesco', 'cauliflower']\n",
    "bin_dict['root_veg'] = ['sweet potato', 'squash', 'pumpkin', 'carrot', 'turnip', 'beet', 'radish', 'parsnip', 'daikon', 'rutabaga', 'salsify', 'yam', 'yuca', 'yucca', 'butternut', 'gourd']\n",
    "bin_dict['allium'] = ['onion', 'garlic', 'shallot', 'chive', 'scallion', 'leek', 'ramps']\n",
    "bin_dict['nightshade'] = ['potato', 'bell pepper', 'tomato', 'eggplant', 'tomatillo']\n",
    "bin_dict['hot_pepper'] = ['jalapeno', 'habanero', 'birdseye', 'thai chili', 'chili pepper']\n",
    "bin_dict['bean'] = ['bean', 'chickpea', 'lentil', 'edamame', 'pea']\n",
    "bin_dict['fungi'] = ['mushroom', 'chantarelle', 'shitake', 'crimini', 'cremini', 'oyster mushroom', 'porcini', 'maitake', 'portobello', 'champignon', 'boletus', 'hen of the woods', 'truffle']\n"
   ]
  },
  {
   "cell_type": "code",
   "execution_count": 4,
   "metadata": {},
   "outputs": [
    {
     "data": {
      "text/plain": [
       "{'red_meat': True,\n",
       " 'porks': False,\n",
       " 'poultry': False,\n",
       " 'game': False,\n",
       " 'cured_meats': False,\n",
       " 'fish': False,\n",
       " 'shellfish': False,\n",
       " 'mollusk': False,\n",
       " 'fresh_green': False,\n",
       " 'earthy_green': False,\n",
       " 'bitter_floral': False,\n",
       " 'allium_spice': True,\n",
       " 'savory_brown': False,\n",
       " 'sharp_spicy': True,\n",
       " 'perfumed_citrus_spicy': False,\n",
       " 'smokey_spicy': False,\n",
       " 'umami_spicy': True,\n",
       " 'baking_spice': True,\n",
       " 'anise': False,\n",
       " 'fresh_salty': False,\n",
       " 'delicate_nutty': False,\n",
       " 'strong_firm': False,\n",
       " 'pungent': False,\n",
       " 'grilled_barbequed': False,\n",
       " 'roasted': False,\n",
       " 'smoked': False,\n",
       " 'poached_steamed': False,\n",
       " 'sauteed_fried': False,\n",
       " 'green_veg': False,\n",
       " 'root_veg': False,\n",
       " 'allium': True,\n",
       " 'nightshade': False,\n",
       " 'hot_pepper': False,\n",
       " 'bean': False,\n",
       " 'fungi': False}"
      ]
     },
     "execution_count": 4,
     "metadata": {},
     "output_type": "execute_result"
    }
   ],
   "source": [
    "t = recipe_info('https://www.allrecipes.com/recipe/18074/marinated-flank-steak/?internalSource=hub%20recipe&referringContentType=Search&clickId=cardslot%204')\n",
    "s = listToString(t)\n",
    "test = ing_classifier(s)\n",
    "test"
   ]
  },
  {
   "cell_type": "code",
   "execution_count": 73,
   "metadata": {},
   "outputs": [
    {
     "name": "stderr",
     "output_type": "stream",
     "text": [
      "<ipython-input-73-b1eec7f65231>:1: DeprecationWarning: The default dtype for empty Series will be 'object' instead of 'float64' in a future version. Specify a dtype explicitly to silence this warning.\n",
      "  wineSeries = pd.Series()\n"
     ]
    }
   ],
   "source": [
    "wineSeries = pd.Series()\n",
    "temp_df = pd.DataFrame()\n",
    "for key in test:\n",
    "    if test[key] == True:\n",
    "        temp_df0 = df[key].sort_values(ascending = False, kind = 'quicksort')[0:3]\n",
    "        temp_df = temp_df.append(temp_df0)\n",
    "temp_df = temp_df.T\n",
    "x = x.fillna(0)\n",
    "x['sums'] = x.sum(axis = 1)\n",
    "predicts = x.sort_values('sums', ascending = False).index.values[0:3]\n",
    "        \n",
    "#print([key, temp_df])"
   ]
  },
  {
   "cell_type": "code",
   "execution_count": 75,
   "metadata": {},
   "outputs": [
    {
     "data": {
      "text/plain": [
       "array(['chenin blanc off-dry', 'malbec', 'syrah'], dtype=object)"
      ]
     },
     "execution_count": 75,
     "metadata": {},
     "output_type": "execute_result"
    }
   ],
   "source": [
    "predicts"
   ]
  },
  {
   "cell_type": "code",
   "execution_count": 72,
   "metadata": {},
   "outputs": [
    {
     "data": {
      "text/plain": [
       "array(['chenin blanc off-dry', 'malbec', 'syrah'], dtype=object)"
      ]
     },
     "execution_count": 72,
     "metadata": {},
     "output_type": "execute_result"
    }
   ],
   "source": []
  },
  {
   "cell_type": "code",
   "execution_count": 74,
   "metadata": {},
   "outputs": [
    {
     "data": {
      "text/plain": [
       "array(['chenin blanc off-dry', 'malbec', 'syrah'], dtype=object)"
      ]
     },
     "execution_count": 74,
     "metadata": {},
     "output_type": "execute_result"
    }
   ],
   "source": []
  },
  {
   "cell_type": "code",
   "execution_count": null,
   "metadata": {},
   "outputs": [],
   "source": []
  }
 ],
 "metadata": {
  "kernelspec": {
   "display_name": "project2-kern",
   "language": "python",
   "name": "python3"
  },
  "language_info": {
   "codemirror_mode": {
    "name": "ipython",
    "version": 3
   },
   "file_extension": ".py",
   "mimetype": "text/x-python",
   "name": "python",
   "nbconvert_exporter": "python",
   "pygments_lexer": "ipython3",
   "version": "3.8.0"
  }
 },
 "nbformat": 4,
 "nbformat_minor": 4
}
