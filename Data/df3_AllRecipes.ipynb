{
 "cells": [
  {
   "cell_type": "code",
   "execution_count": 1,
   "metadata": {},
   "outputs": [],
   "source": [
    "import pandas as pd\n",
    "import re\n",
    "from bs4 import BeautifulSoup\n",
    "import requests\n",
    "import re"
   ]
  },
  {
   "cell_type": "code",
   "execution_count": null,
   "metadata": {},
   "outputs": [],
   "source": [
    "df = pd.read_csv(\"df_main_2.csv\")\n",
    "df = df[['category', 'beverage', 'food', 'Grape']]"
   ]
  },
  {
   "cell_type": "code",
   "execution_count": null,
   "metadata": {},
   "outputs": [],
   "source": [
    "df"
   ]
  },
  {
   "cell_type": "code",
   "execution_count": 2,
   "metadata": {},
   "outputs": [],
   "source": [
    "df1 = pd.read_csv(\"AllRecipe_df.csv\")\n",
    "df2 = pd.read_csv(\"AllRecipe_df2.csv\")\n",
    "df3 = pd.read_csv(\"AllRecipe_df3.csv\")\n",
    "df4 = pd.read_csv(\"AllRecipe_df4.csv\")\n",
    "df5 = pd.read_csv(\"AllRecipe_df5.csv\")\n",
    "df6 = pd.read_csv(\"AllRecipe_df6.csv\")\n",
    "df7 = pd.read_csv(\"AllRecipe_df7.csv\")\n",
    "df8 = pd.read_csv(\"AllRecipe_df8.csv\")\n",
    "df9 = pd.read_csv(\"AllRecipe_df9.csv\")\n",
    "df10 = pd.read_csv(\"AllRecipe_df10.csv\")\n"
   ]
  },
  {
   "cell_type": "code",
   "execution_count": 3,
   "metadata": {},
   "outputs": [],
   "source": [
    "df0 = df1.append(df2)\n",
    "df0 = df0.append(df3)\n",
    "df0 = df0.append(df4)\n",
    "df0 = df0.append(df5)\n",
    "df0 = df0.append(df6)\n",
    "df0 = df0.append(df7)\n",
    "df0 = df0.append(df8)\n",
    "df0 = df0.append(df9)\n",
    "df0 = df0.append(df10)\n",
    "df0.columns = ['ind', 'food', 'nutrition']"
   ]
  },
  {
   "cell_type": "code",
   "execution_count": 9,
   "metadata": {},
   "outputs": [
    {
     "data": {
      "text/plain": [
       "'320 calories; 11.3 g total fat; 33 mg cholesterol; 359 mg sodium. 53.2 g carbohydrates; 4.9 g protein; Full Nutrition'"
      ]
     },
     "execution_count": 9,
     "metadata": {},
     "output_type": "execute_result"
    }
   ],
   "source": [
    "nuts = df0['nutrition'].values\n",
    "l = nuts[4]\n",
    "l"
   ]
  },
  {
   "cell_type": "code",
   "execution_count": 5,
   "metadata": {},
   "outputs": [
    {
     "data": {
      "text/plain": [
       "'Per Serving: 426 calories; 31.6 g fat; 33.1 g carbohydrates; 8 g protein; 21 mg cholesterol; 654 mg sodium. Full nutrition'"
      ]
     },
     "execution_count": 5,
     "metadata": {},
     "output_type": "execute_result"
    }
   ],
   "source": [
    "nuts[1]"
   ]
  },
  {
   "cell_type": "code",
   "execution_count": null,
   "metadata": {},
   "outputs": [],
   "source": [
    "calories = df0[\"nutrition\"].str.extract('(\\d+ calories\\; )', expand = True)\n",
    "sodium = df0[\"nutrition\"].str.extract('(\\d+ mg sodium\\. )', expand = True)\n",
    "fat = df0[\"nutrition\"].str.extract('(\\d+\\.?\\d? g fat\\; )|(\\d+\\.?\\d? g total fat\\; )', expand = True)\n",
    "fat[0].fillna(fat[1], inplace = True)\n",
    "fat = fat[0]\n",
    "cholesterol = df0[\"nutrition\"].str.extract('(\\d+ mg cholesterol\\; )', expand = True)\n",
    "carbs = df0[\"nutrition\"].str.extract('(\\d+ g carbohydrates\\; )', expand = True)\n",
    "protein = df0[\"nutrition\"].str.extract('(\\d+\\.?\\d? g protein\\; )', expand = True)\n"
   ]
  },
  {
   "cell_type": "code",
   "execution_count": null,
   "metadata": {},
   "outputs": [],
   "source": [
    "#sodium[0].str.extract('(\\d+)', expand = True)\n",
    "#carbs[0].str.extract('(\\d+)', expand = True)\n",
    "carbs[0].str.extract('(\\d+)', expand = True)"
   ]
  },
  {
   "cell_type": "code",
   "execution_count": null,
   "metadata": {},
   "outputs": [],
   "source": [
    "new = pd.DataFrame(calories)\n",
    "new['sodium'] = sodium\n",
    "new['fat'] = fat\n",
    "new['cholesterol'] = cholesterol\n",
    "new['carbs'] = carbs\n",
    "new['protein'] = protein"
   ]
  },
  {
   "cell_type": "code",
   "execution_count": null,
   "metadata": {},
   "outputs": [],
   "source": [
    "dfMain = df0[['ind', 'food']]\n",
    "dfMain['sodium'] = sodium[0].str.extract('(\\d+)', expand = True)\n",
    "dfMain['calories'] = calories[0].str.extract('(\\d+)', expand = True)\n",
    "dfMain['fat'] = fat.str.extract('(\\d+\\.?\\d?)', expand = True)\n",
    "dfMain['cholesterol'] = cholesterol[0].str.extract('(\\d+)', expand = True)\n",
    "dfMain['carbs'] = carbs[0].str.extract('(\\d+)', expand = True)\n",
    "dfMain['protein'] = protein[0].str.extract('(\\d+\\.?\\d?)', expand = True)"
   ]
  },
  {
   "cell_type": "code",
   "execution_count": null,
   "metadata": {},
   "outputs": [],
   "source": [
    "dfMain"
   ]
  },
  {
   "cell_type": "code",
   "execution_count": null,
   "metadata": {},
   "outputs": [],
   "source": [
    "df_new_recipes = df.merge(dfMain, how = 'inner', on ='food')"
   ]
  },
  {
   "cell_type": "code",
   "execution_count": null,
   "metadata": {},
   "outputs": [],
   "source": [
    "df_new_recipes['Grape'].unique()"
   ]
  },
  {
   "cell_type": "code",
   "execution_count": null,
   "metadata": {},
   "outputs": [],
   "source": [
    "metric_df = pd.read_csv('wine_metric_clean.csv')\n",
    "metric_wines = ['Cabernet Sauvignon', 'Pinot Noir', 'Syrah', 'Sangiovese', 'Merlot', 'Malbec', 'Sauvignon Blanc',\n",
    "               'Chardonnay', 'Chenin Blanc', 'Riesling', 'Gewurztraminer']\n",
    "metric_df['Grape'] = metric_wines"
   ]
  },
  {
   "cell_type": "code",
   "execution_count": null,
   "metadata": {},
   "outputs": [],
   "source": [
    "df_metric_main = df_new_recipes[df_new_recipes['Grape'].isin(metric_wines)]\n",
    "wineList = df_metric_main['Grape'].values.tolist()"
   ]
  },
  {
   "cell_type": "code",
   "execution_count": null,
   "metadata": {},
   "outputs": [],
   "source": [
    "metric_df"
   ]
  },
  {
   "cell_type": "code",
   "execution_count": null,
   "metadata": {},
   "outputs": [],
   "source": [
    "df_metric_main.groupby('Grape').count()"
   ]
  },
  {
   "cell_type": "code",
   "execution_count": null,
   "metadata": {},
   "outputs": [],
   "source": [
    "#temp_df = pd.DataFrame()\n",
    "def metric_match():\n",
    "    temp_l = []\n",
    "    for wine in wineList:\n",
    "        r = metric_df[metric_df['Grape'] == wine].values.tolist()\n",
    "        temp_l.append(r)\n",
    "        #         temp_df.append(r)\n",
    "    return temp_l"
   ]
  },
  {
   "cell_type": "code",
   "execution_count": null,
   "metadata": {},
   "outputs": [],
   "source": [
    "z = metric_match()"
   ]
  },
  {
   "cell_type": "code",
   "execution_count": null,
   "metadata": {},
   "outputs": [],
   "source": [
    "z0 = z[0]\n",
    "temp_df = pd.DataFrame()\n",
    "for r in z:\n",
    "    temp_df = temp_df.append(r)"
   ]
  },
  {
   "cell_type": "code",
   "execution_count": null,
   "metadata": {},
   "outputs": [],
   "source": [
    "df_metric_main.head()"
   ]
  },
  {
   "cell_type": "code",
   "execution_count": null,
   "metadata": {},
   "outputs": [],
   "source": [
    "ind = [i for i in range(0, 2863)]\n",
    "temp_df['i'] = ind\n",
    "temp_df = temp_df.set_index('i')\n",
    "df_metric_main['i'] = ind\n",
    "df_metric_main = df_metric_main.set_index('i')"
   ]
  },
  {
   "cell_type": "code",
   "execution_count": null,
   "metadata": {},
   "outputs": [],
   "source": [
    "dfFinal = df_metric_main.merge(metric_df, how = \"inner\", on = \"Grape\")"
   ]
  },
  {
   "cell_type": "code",
   "execution_count": null,
   "metadata": {},
   "outputs": [],
   "source": [
    "dfFinal"
   ]
  },
  {
   "cell_type": "code",
   "execution_count": null,
   "metadata": {},
   "outputs": [],
   "source": [
    "dfFinal.to_csv(\"df_main_3.csv\")"
   ]
  },
  {
   "cell_type": "code",
   "execution_count": 28,
   "metadata": {},
   "outputs": [],
   "source": [
    "recipe_nutrition = []\n",
    "recipe_search = requests.get(\"https://www.allrecipes.com/recipe/65147/roasted-duck/?internalSource=hub%20recipe&referringContentType=Search&clickId=cardslot%202\").text\n",
    "soup_recipe = BeautifulSoup(recipe_search, \"html.parser\")    \n",
    "nfacts = soup_recipe.find(\"div\", class_ = \"nutrition-summary-facts\").text"
   ]
  },
  {
   "cell_type": "code",
   "execution_count": 29,
   "metadata": {},
   "outputs": [],
   "source": [
    "recipe_nutrition.append(nfacts)\n"
   ]
  },
  {
   "cell_type": "code",
   "execution_count": 112,
   "metadata": {},
   "outputs": [],
   "source": [
    "x = recipe_nutrition[0].replace(\"\\n\", \"\").replace(\";\", \" \").replace(\"  \", \" \")\n",
    "l = l.replace(\"\\n\", \"\").replace(\";\", \" \").replace(\"  \", \" \")"
   ]
  },
  {
   "cell_type": "code",
   "execution_count": 110,
   "metadata": {},
   "outputs": [],
   "source": [
    "calories = re.findall(r'\\d+ calories;', x)\n",
    "sodium = re.findall('\\d+ mg sodium\\.', l)\n",
    "fat = re.findall(r' \\d+\\.?\\d? g fat | \\d+\\.?\\d? g total fat', l)\n",
    "cholesterol = re.findall(r'\\d+ mg cholesterol', l)\n",
    "carbs = re.findall(r'\\d+\\.?\\d? g carbohydrates', l)\n",
    "protein = re.findall(r'\\d+\\.?\\d? g protein', l)"
   ]
  },
  {
   "cell_type": "code",
   "execution_count": 107,
   "metadata": {},
   "outputs": [
    {
     "data": {
      "text/plain": [
       "'320 calories 11.3 g total fat 33 mg cholesterol 359 mg sodium. 53.2 g carbohydrates 4.9 g protein Full Nutrition'"
      ]
     },
     "execution_count": 107,
     "metadata": {},
     "output_type": "execute_result"
    }
   ],
   "source": [
    "l"
   ]
  },
  {
   "cell_type": "code",
   "execution_count": 111,
   "metadata": {},
   "outputs": [
    {
     "data": {
      "text/plain": [
       "['4.9 g protein']"
      ]
     },
     "execution_count": 111,
     "metadata": {},
     "output_type": "execute_result"
    }
   ],
   "source": [
    "protein"
   ]
  },
  {
   "cell_type": "code",
   "execution_count": 89,
   "metadata": {},
   "outputs": [
    {
     "data": {
      "text/plain": [
       "['359 mg sodium.']"
      ]
     },
     "execution_count": 89,
     "metadata": {},
     "output_type": "execute_result"
    }
   ],
   "source": [
    "#re.findall(r'\\d+\\.?\\d?', x)\n",
    "#re.findall(r'\\d+\\.?\\d?', l)\n",
    "sodium"
   ]
  },
  {
   "cell_type": "code",
   "execution_count": 34,
   "metadata": {},
   "outputs": [],
   "source": [
    "scraper_df = pd.DataFrame(recipe_nutrition)"
   ]
  },
  {
   "cell_type": "code",
   "execution_count": 14,
   "metadata": {},
   "outputs": [],
   "source": [
    "scraper_df['nutrition'] = scraper_df[0].astype('str')\n",
    "scraper_df[0].str.split('(\\n)')\n",
    "scraper_df.iloc[0][0]\n",
    "scraper_df"
   ]
  },
  {
   "cell_type": "code",
   "execution_count": null,
   "metadata": {},
   "outputs": [],
   "source": []
  }
 ],
 "metadata": {
  "kernelspec": {
   "display_name": "project2-kern",
   "language": "python",
   "name": "python3"
  },
  "language_info": {
   "codemirror_mode": {
    "name": "ipython",
    "version": 3
   },
   "file_extension": ".py",
   "mimetype": "text/x-python",
   "name": "python",
   "nbconvert_exporter": "python",
   "pygments_lexer": "ipython3",
   "version": "3.8.0"
  }
 },
 "nbformat": 4,
 "nbformat_minor": 4
}
