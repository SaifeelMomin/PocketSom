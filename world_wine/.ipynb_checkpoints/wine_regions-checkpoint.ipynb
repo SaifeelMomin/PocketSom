{
 "cells": [
  {
   "cell_type": "code",
   "execution_count": 1,
   "metadata": {},
   "outputs": [],
   "source": [
    "import requests\n",
    "import pandas as pd\n",
    "from bs4 import BeautifulSoup\n",
    "import lxml\n",
    "from urllib.request import Request, urlopen"
   ]
  },
  {
   "cell_type": "markdown",
   "metadata": {},
   "source": [
    "### URLs Used"
   ]
  },
  {
   "cell_type": "code",
   "execution_count": 2,
   "metadata": {},
   "outputs": [],
   "source": [
    "WINE_REGION_URL2 = \"https://www.tonymappedit.com/top-10-wine-producing-countries/\"\n",
    "WIKI_COUNTRIES = \"https://en.wikipedia.org/wiki/ISO_3166-1_alpha-3\"\n",
    "VINEYARD_URL = \"https://www.bkwine.com/features/more/world-wine-production-reaches-record-level-2018-consumption-stable/\"\n",
    "EXPORT_UL = \"http://www.worldstopexports.com/wine-exports-country/\"\n",
    "IMPORT_URL = \"http://www.worldstopexports.com/top-wine-importing-countries/\"\n",
    "CONSUMPTION_URL = \"\""
   ]
  },
  {
   "cell_type": "markdown",
   "metadata": {},
   "source": [
    "### Wine Production Data"
   ]
  },
  {
   "cell_type": "code",
   "execution_count": 3,
   "metadata": {},
   "outputs": [],
   "source": [
    "'''scrape wine region data with coresponding wines'''\n",
    "req = Request(WINE_REGION_URL2 , headers={'User-Agent': 'Mozilla/5.0'})\n",
    "\n",
    "webpage = urlopen(req).read()\n",
    "\n",
    "# html_text = requests.get(WINE_REGION_URL).text\n",
    "soup = BeautifulSoup(webpage, \"html.parser\")"
   ]
  },
  {
   "cell_type": "code",
   "execution_count": 4,
   "metadata": {},
   "outputs": [],
   "source": [
    "country1 = []\n",
    "countries = soup.find_all(\"ol\")[1]\n",
    "items = countries.find_all(\"li\")\n",
    "\n",
    "for country in items:\n",
    "    country1.append(country.text.split(\": \"))"
   ]
  },
  {
   "cell_type": "code",
   "execution_count": 5,
   "metadata": {},
   "outputs": [],
   "source": [
    "country2 = []\n",
    "countries2 = soup.find_all(\"ol\")[2]\n",
    "items = countries2.find_all(\"li\")\n",
    "\n",
    "for country in items:\n",
    "    country2.append(country.text.split(\": \"))"
   ]
  },
  {
   "cell_type": "code",
   "execution_count": 6,
   "metadata": {},
   "outputs": [],
   "source": [
    "country_production = country1 + country2\n",
    "# country_production"
   ]
  },
  {
   "cell_type": "code",
   "execution_count": 7,
   "metadata": {},
   "outputs": [],
   "source": [
    "country_production_df = pd.DataFrame(country_production).rename(columns = {0: \"Country\", 1: \"WineProduction[HCL]\"}).set_index(\"Country\")\n",
    "# country_production_df"
   ]
  },
  {
   "cell_type": "markdown",
   "metadata": {},
   "source": [
    "### Country Code Data"
   ]
  },
  {
   "cell_type": "code",
   "execution_count": 8,
   "metadata": {},
   "outputs": [],
   "source": [
    "'''scrape wine region data with coresponding wines'''\n",
    "req = Request(WIKI_COUNTRIES , headers={'User-Agent': 'Mozilla/5.0'})\n",
    "\n",
    "webpage = urlopen(req).read()\n",
    "\n",
    "# html_text = requests.get(WINE_REGION_URL).text\n",
    "soup = BeautifulSoup(webpage, \"html.parser\")"
   ]
  },
  {
   "cell_type": "code",
   "execution_count": 9,
   "metadata": {},
   "outputs": [],
   "source": [
    "table = soup.find(\"div\", class_=\"plainlist\")\n",
    "country_codes = table.find_all(\"span\")\n",
    "countries = table.find_all(\"a\")"
   ]
  },
  {
   "cell_type": "code",
   "execution_count": 10,
   "metadata": {},
   "outputs": [],
   "source": [
    "country_list = []\n",
    "for country in countries:\n",
    "    country_list.append(country.text)"
   ]
  },
  {
   "cell_type": "code",
   "execution_count": 11,
   "metadata": {},
   "outputs": [],
   "source": [
    "code_list = []\n",
    "for code in country_codes:\n",
    "    code_list.append(code.text)"
   ]
  },
  {
   "cell_type": "code",
   "execution_count": 12,
   "metadata": {},
   "outputs": [],
   "source": [
    "#Province of China was index 229. \n",
    "country_df = pd.DataFrame(country_list).drop([11, 229]).reset_index().drop(columns = [\"index\"])\n",
    "country_df = country_df.rename(columns = {0: \"Country\"}).reset_index().set_index(\"index\")"
   ]
  },
  {
   "cell_type": "code",
   "execution_count": 13,
   "metadata": {},
   "outputs": [],
   "source": [
    "code_df = pd.DataFrame(code_list).drop([11]).reset_index().drop(columns = [\"index\"])\n",
    "code_df = code_df.rename(columns = {0: \"CODES\"}).reset_index().set_index(\"index\")"
   ]
  },
  {
   "cell_type": "code",
   "execution_count": 14,
   "metadata": {},
   "outputs": [],
   "source": [
    "country_code_df = pd.merge(country_df, code_df, on=\"index\", how=\"outer\").set_index(\"Country\")\n",
    "# country_code_df"
   ]
  },
  {
   "cell_type": "code",
   "execution_count": 15,
   "metadata": {},
   "outputs": [],
   "source": [
    "wine_production_HCL = pd.merge(country_production_df,country_code_df,  how=\"right\", on=\"Country\").rename(columns = {'Alpha-3 code':'CODE'}).fillna(0)\n",
    "# wine_production_HCL"
   ]
  },
  {
   "cell_type": "code",
   "execution_count": 16,
   "metadata": {},
   "outputs": [],
   "source": [
    "# wine_production_HCL.to_csv(\"wine_production.csv\")"
   ]
  },
  {
   "cell_type": "markdown",
   "metadata": {},
   "source": [
    "### Vineyard Data"
   ]
  },
  {
   "cell_type": "code",
   "execution_count": 17,
   "metadata": {},
   "outputs": [],
   "source": [
    "'''scrape wine region data with coresponding wines'''\n",
    "req = Request(VINEYARD_URL , headers={'User-Agent': 'Mozilla/5.0'})\n",
    "\n",
    "webpage = urlopen(req).read()\n",
    "\n",
    "# html_text = requests.get(WINE_REGION_URL).text\n",
    "soup = BeautifulSoup(webpage, \"html.parser\")"
   ]
  },
  {
   "cell_type": "code",
   "execution_count": 18,
   "metadata": {},
   "outputs": [],
   "source": [
    "vineyard_table = soup.find_all(\"table\", id=\"tablepress-762\")[0]\n",
    "vine_country = vineyard_table.find_all(\"td\", class_=\"column-2\")\n",
    "vine_acreage = vineyard_table.find_all(\"td\", class_=\"column-3\")"
   ]
  },
  {
   "cell_type": "code",
   "execution_count": 19,
   "metadata": {},
   "outputs": [],
   "source": [
    "vine_countries = []\n",
    "for country in vine_country:\n",
    "    vine_countries.append(country.text)"
   ]
  },
  {
   "cell_type": "code",
   "execution_count": 20,
   "metadata": {},
   "outputs": [],
   "source": [
    "plot_sizes = []\n",
    "for plot_size in vine_acreage:\n",
    "    plot_sizes.append(plot_size.text)"
   ]
  },
  {
   "cell_type": "code",
   "execution_count": 21,
   "metadata": {},
   "outputs": [],
   "source": [
    "country_vy = pd.DataFrame(vine_countries).drop([0,27,28,29,30]).reset_index().replace('\\*','',regex=True).rename(columns = {0: \"Country\"})\n",
    "size_vy = pd.DataFrame(plot_sizes).drop([0,27,28]).reset_index().rename(columns = {0: \"Largest Vineyards\"})"
   ]
  },
  {
   "cell_type": "code",
   "execution_count": 22,
   "metadata": {},
   "outputs": [],
   "source": [
    "vineyard_data = pd.merge(country_vy, size_vy, on=\"index\").drop(columns = [\"index\"]).set_index(\"Country\")\n",
    "# vineyard_data"
   ]
  },
  {
   "cell_type": "code",
   "execution_count": 23,
   "metadata": {},
   "outputs": [
    {
     "data": {
      "text/html": [
       "<div>\n",
       "<style scoped>\n",
       "    .dataframe tbody tr th:only-of-type {\n",
       "        vertical-align: middle;\n",
       "    }\n",
       "\n",
       "    .dataframe tbody tr th {\n",
       "        vertical-align: top;\n",
       "    }\n",
       "\n",
       "    .dataframe thead th {\n",
       "        text-align: right;\n",
       "    }\n",
       "</style>\n",
       "<table border=\"1\" class=\"dataframe\">\n",
       "  <thead>\n",
       "    <tr style=\"text-align: right;\">\n",
       "      <th></th>\n",
       "      <th>WineProduction[HCL]</th>\n",
       "      <th>CODES</th>\n",
       "      <th>Largest Vineyards</th>\n",
       "    </tr>\n",
       "    <tr>\n",
       "      <th>Country</th>\n",
       "      <th></th>\n",
       "      <th></th>\n",
       "      <th></th>\n",
       "    </tr>\n",
       "  </thead>\n",
       "  <tbody>\n",
       "    <tr>\n",
       "      <th>Italy</th>\n",
       "      <td>54.8</td>\n",
       "      <td>ITA</td>\n",
       "      <td>702</td>\n",
       "    </tr>\n",
       "    <tr>\n",
       "      <th>France</th>\n",
       "      <td>49.1</td>\n",
       "      <td>FRA</td>\n",
       "      <td>789</td>\n",
       "    </tr>\n",
       "    <tr>\n",
       "      <th>Spain</th>\n",
       "      <td>44.4</td>\n",
       "      <td>ESP</td>\n",
       "      <td>969</td>\n",
       "    </tr>\n",
       "    <tr>\n",
       "      <th>Argentina</th>\n",
       "      <td>14.5</td>\n",
       "      <td>ARG</td>\n",
       "      <td>219</td>\n",
       "    </tr>\n",
       "    <tr>\n",
       "      <th>Chile</th>\n",
       "      <td>12.9</td>\n",
       "      <td>CHL</td>\n",
       "      <td>212</td>\n",
       "    </tr>\n",
       "    <tr>\n",
       "      <th>...</th>\n",
       "      <td>...</td>\n",
       "      <td>...</td>\n",
       "      <td>...</td>\n",
       "    </tr>\n",
       "    <tr>\n",
       "      <th>Wallis and Futuna</th>\n",
       "      <td>0</td>\n",
       "      <td>WLF</td>\n",
       "      <td>0</td>\n",
       "    </tr>\n",
       "    <tr>\n",
       "      <th>Samoa</th>\n",
       "      <td>0</td>\n",
       "      <td>WSM</td>\n",
       "      <td>0</td>\n",
       "    </tr>\n",
       "    <tr>\n",
       "      <th>Yemen</th>\n",
       "      <td>0</td>\n",
       "      <td>YEM</td>\n",
       "      <td>0</td>\n",
       "    </tr>\n",
       "    <tr>\n",
       "      <th>Zambia</th>\n",
       "      <td>0</td>\n",
       "      <td>ZMB</td>\n",
       "      <td>0</td>\n",
       "    </tr>\n",
       "    <tr>\n",
       "      <th>Zimbabwe</th>\n",
       "      <td>0</td>\n",
       "      <td>ZWE</td>\n",
       "      <td>0</td>\n",
       "    </tr>\n",
       "  </tbody>\n",
       "</table>\n",
       "<p>248 rows × 3 columns</p>\n",
       "</div>"
      ],
      "text/plain": [
       "                  WineProduction[HCL] CODES Largest Vineyards\n",
       "Country                                                      \n",
       "Italy                            54.8   ITA               702\n",
       "France                           49.1   FRA               789\n",
       "Spain                            44.4   ESP               969\n",
       "Argentina                        14.5   ARG               219\n",
       "Chile                            12.9   CHL               212\n",
       "...                               ...   ...               ...\n",
       "Wallis and Futuna                   0   WLF                 0\n",
       "Samoa                               0   WSM                 0\n",
       "Yemen                               0   YEM                 0\n",
       "Zambia                              0   ZMB                 0\n",
       "Zimbabwe                            0   ZWE                 0\n",
       "\n",
       "[248 rows x 3 columns]"
      ]
     },
     "execution_count": 23,
     "metadata": {},
     "output_type": "execute_result"
    }
   ],
   "source": [
    "world_wine_vy = pd.merge(wine_production_HCL, vineyard_data, on=\"Country\", how=\"left\").fillna(0)\n",
    "world_wine_vy"
   ]
  },
  {
   "cell_type": "markdown",
   "metadata": {},
   "source": [
    "### Export Data"
   ]
  },
  {
   "cell_type": "markdown",
   "metadata": {},
   "source": [
    "### Import Data"
   ]
  },
  {
   "cell_type": "markdown",
   "metadata": {},
   "source": [
    "### Consumption Data"
   ]
  },
  {
   "cell_type": "code",
   "execution_count": null,
   "metadata": {},
   "outputs": [],
   "source": []
  },
  {
   "cell_type": "code",
   "execution_count": 24,
   "metadata": {},
   "outputs": [],
   "source": [
    "world_wine_vy.to_csv(\"world_wine_data.csv\")"
   ]
  },
  {
   "cell_type": "code",
   "execution_count": null,
   "metadata": {},
   "outputs": [],
   "source": []
  },
  {
   "cell_type": "code",
   "execution_count": null,
   "metadata": {},
   "outputs": [],
   "source": []
  }
 ],
 "metadata": {
  "kernelspec": {
   "display_name": "project_2",
   "language": "python",
   "name": "project_2"
  },
  "language_info": {
   "codemirror_mode": {
    "name": "ipython",
    "version": 3
   },
   "file_extension": ".py",
   "mimetype": "text/x-python",
   "name": "python",
   "nbconvert_exporter": "python",
   "pygments_lexer": "ipython3",
   "version": "3.7.5"
  }
 },
 "nbformat": 4,
 "nbformat_minor": 4
}
