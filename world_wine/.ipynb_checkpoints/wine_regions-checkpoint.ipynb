{
 "cells": [
  {
   "cell_type": "code",
   "execution_count": 1,
   "metadata": {},
   "outputs": [],
   "source": [
    "import requests\n",
    "import pandas as pd\n",
    "from bs4 import BeautifulSoup\n",
    "import lxml\n",
    "from urllib.request import Request, urlopen\n",
    "import numpy as np"
   ]
  },
  {
   "cell_type": "markdown",
   "metadata": {},
   "source": [
    "### URLs Used"
   ]
  },
  {
   "cell_type": "code",
   "execution_count": 2,
   "metadata": {},
   "outputs": [],
   "source": [
    "WINE_REGION_URL2 = \"https://www.tonymappedit.com/top-10-wine-producing-countries/\"\n",
    "WIKI_COUNTRIES = \"https://en.wikipedia.org/wiki/ISO_3166-1_alpha-3\"\n",
    "VINEYARD_URL = \"https://www.bkwine.com/features/more/world-wine-production-reaches-record-level-2018-consumption-stable/\"\n",
    "EXPORT_URL = \"https://www.nationmaster.com/nmx/ranking/export-of-fortified-wine-or-must\"\n",
    "IMPORT_URL = \"https://www.nationmaster.com/nmx/ranking/import-of-fortified-wine-or-must\"\n",
    "CONSUMPTION_URL = \"https://www.nationmaster.com/nmx/ranking/wine-consumption\""
   ]
  },
  {
   "cell_type": "markdown",
   "metadata": {},
   "source": [
    "### Wine Production Data"
   ]
  },
  {
   "cell_type": "code",
   "execution_count": null,
   "metadata": {},
   "outputs": [],
   "source": [
    "'''scrape wine region data with coresponding wines'''\n",
    "req = Request(WINE_REGION_URL2 , headers={'User-Agent': 'Mozilla/5.0'})\n",
    "\n",
    "webpage = urlopen(req).read()\n",
    "\n",
    "# html_text = requests.get(WINE_REGION_URL).text\n",
    "soup = BeautifulSoup(webpage, \"html.parser\")"
   ]
  },
  {
   "cell_type": "code",
   "execution_count": null,
   "metadata": {},
   "outputs": [],
   "source": [
    "country1 = []\n",
    "countries = soup.find_all(\"ol\")[1]\n",
    "items = countries.find_all(\"li\")\n",
    "\n",
    "for country in items:\n",
    "    country1.append(country.text.split(\": \"))"
   ]
  },
  {
   "cell_type": "code",
   "execution_count": null,
   "metadata": {},
   "outputs": [],
   "source": [
    "country2 = []\n",
    "countries2 = soup.find_all(\"ol\")[2]\n",
    "items = countries2.find_all(\"li\")\n",
    "\n",
    "for country in items:\n",
    "    country2.append(country.text.split(\": \"))"
   ]
  },
  {
   "cell_type": "code",
   "execution_count": null,
   "metadata": {},
   "outputs": [],
   "source": [
    "country_production = country1 + country2\n",
    "# country_production"
   ]
  },
  {
   "cell_type": "code",
   "execution_count": null,
   "metadata": {},
   "outputs": [],
   "source": [
    "country_production_df = pd.DataFrame(country_production).rename(columns = {0: \"Country\", 1: \"Wine Production\"}).set_index(\"Country\")\n",
    "country_production_df.astype(\"float64\")"
   ]
  },
  {
   "cell_type": "markdown",
   "metadata": {},
   "source": [
    "### Country Code Data"
   ]
  },
  {
   "cell_type": "code",
   "execution_count": null,
   "metadata": {},
   "outputs": [],
   "source": [
    "'''scrape wine region data with coresponding wines'''\n",
    "req = Request(WIKI_COUNTRIES , headers={'User-Agent': 'Mozilla/5.0'})\n",
    "\n",
    "webpage = urlopen(req).read()\n",
    "\n",
    "# html_text = requests.get(WINE_REGION_URL).text\n",
    "soup = BeautifulSoup(webpage, \"html.parser\")"
   ]
  },
  {
   "cell_type": "code",
   "execution_count": null,
   "metadata": {},
   "outputs": [],
   "source": [
    "table = soup.find(\"div\", class_=\"plainlist\")\n",
    "country_codes = table.find_all(\"span\")\n",
    "countries = table.find_all(\"a\")"
   ]
  },
  {
   "cell_type": "code",
   "execution_count": null,
   "metadata": {},
   "outputs": [],
   "source": [
    "country_list = []\n",
    "for country in countries:\n",
    "    country_list.append(country.text)"
   ]
  },
  {
   "cell_type": "code",
   "execution_count": null,
   "metadata": {},
   "outputs": [],
   "source": [
    "code_list = []\n",
    "for code in country_codes:\n",
    "    code_list.append(code.text)"
   ]
  },
  {
   "cell_type": "code",
   "execution_count": null,
   "metadata": {},
   "outputs": [],
   "source": [
    "#Province of China was index 229. \n",
    "country_df = pd.DataFrame(country_list).drop([229]).reset_index().drop(columns = [\"index\"])\n",
    "country_df = country_df.rename(columns = {0: \"Country\"}).reset_index().set_index(\"index\")"
   ]
  },
  {
   "cell_type": "code",
   "execution_count": null,
   "metadata": {},
   "outputs": [],
   "source": [
    "code_df = pd.DataFrame(code_list).reset_index().drop(columns = [\"index\"])\n",
    "code_df = code_df.rename(columns = {0: \"CODES\"}).reset_index().set_index(\"index\")"
   ]
  },
  {
   "cell_type": "code",
   "execution_count": null,
   "metadata": {},
   "outputs": [],
   "source": [
    "country_code_df = pd.merge(country_df, code_df, on=\"index\", how=\"outer\").set_index(\"Country\").rename(index = {\"United States of America\" : \"United States\"})\n",
    "country_code_df"
   ]
  },
  {
   "cell_type": "code",
   "execution_count": null,
   "metadata": {},
   "outputs": [],
   "source": [
    "wine_production = pd.merge(country_production_df,country_code_df,  how=\"right\", on=\"Country\").rename(columns = {'Alpha-3 code':'CODE'}).fillna(0)\n",
    "wine_production"
   ]
  },
  {
   "cell_type": "markdown",
   "metadata": {},
   "source": [
    "### Vineyard Data"
   ]
  },
  {
   "cell_type": "code",
   "execution_count": null,
   "metadata": {},
   "outputs": [],
   "source": [
    "'''scrape wine region data with coresponding wines'''\n",
    "req = Request(VINEYARD_URL , headers={'User-Agent': 'Mozilla/5.0'})\n",
    "\n",
    "webpage = urlopen(req).read()\n",
    "\n",
    "soup = BeautifulSoup(webpage, \"html.parser\")"
   ]
  },
  {
   "cell_type": "code",
   "execution_count": null,
   "metadata": {},
   "outputs": [],
   "source": [
    "vineyard_table = soup.find_all(\"table\", id=\"tablepress-762\")[0]\n",
    "vine_country = vineyard_table.find_all(\"td\", class_=\"column-2\")\n",
    "vine_acreage = vineyard_table.find_all(\"td\", class_=\"column-3\")"
   ]
  },
  {
   "cell_type": "code",
   "execution_count": null,
   "metadata": {},
   "outputs": [],
   "source": [
    "vine_countries = []\n",
    "for country in vine_country:\n",
    "    vine_countries.append(country.text)"
   ]
  },
  {
   "cell_type": "code",
   "execution_count": null,
   "metadata": {},
   "outputs": [],
   "source": [
    "plot_sizes = []\n",
    "for plot_size in vine_acreage:\n",
    "    plot_sizes.append(plot_size.text)"
   ]
  },
  {
   "cell_type": "code",
   "execution_count": null,
   "metadata": {},
   "outputs": [],
   "source": [
    "country_vy = pd.DataFrame(vine_countries).drop([0,27,28,29,30]).reset_index().replace('\\*','',regex=True).rename(columns = {0: \"Country\"})\n",
    "size_vy = pd.DataFrame(plot_sizes).drop([0,27,28]).reset_index().rename(columns = {0: \"Largest Vineyards\"})"
   ]
  },
  {
   "cell_type": "code",
   "execution_count": null,
   "metadata": {},
   "outputs": [],
   "source": [
    "vineyard_data = pd.merge(country_vy, size_vy, on=\"index\").drop(columns = [\"index\"]).set_index(\"Country\").rename(index = {\"USA\" : \"United States\"})\n",
    "vineyard_data"
   ]
  },
  {
   "cell_type": "code",
   "execution_count": null,
   "metadata": {},
   "outputs": [],
   "source": [
    "world_wine_vy = pd.merge(wine_production, vineyard_data, on=\"Country\", how=\"left\").fillna(0)\n",
    "world_wine_vy"
   ]
  },
  {
   "cell_type": "markdown",
   "metadata": {},
   "source": [
    "### Export Data"
   ]
  },
  {
   "cell_type": "code",
   "execution_count": null,
   "metadata": {},
   "outputs": [],
   "source": [
    "'''scrape wine region data with coresponding wines'''\n",
    "req = Request(EXPORT_URL , headers={'User-Agent': 'Mozilla/5.0'})\n",
    "\n",
    "webpage = urlopen(req).read()\n",
    "\n",
    "soup = BeautifulSoup(webpage, \"html.parser\")"
   ]
  },
  {
   "cell_type": "code",
   "execution_count": null,
   "metadata": {},
   "outputs": [],
   "source": [
    "export_tables = soup.find_all(\"div\", class_=\"country-name\")"
   ]
  },
  {
   "cell_type": "code",
   "execution_count": null,
   "metadata": {},
   "outputs": [],
   "source": [
    "export_country = []\n",
    "for export in export_tables:\n",
    "    export_country.append(export.text)"
   ]
  },
  {
   "cell_type": "code",
   "execution_count": null,
   "metadata": {},
   "outputs": [],
   "source": [
    "export_country_df = pd.Series(export_country).str.strip().rename_axis(\"index\").rename(\"Country\")\n",
    "export_country_df.to_frame()"
   ]
  },
  {
   "cell_type": "code",
   "execution_count": null,
   "metadata": {},
   "outputs": [],
   "source": [
    "export_values = soup.find_all(\"td\", class_=\"last-value\")"
   ]
  },
  {
   "cell_type": "code",
   "execution_count": null,
   "metadata": {},
   "outputs": [],
   "source": [
    "export_string = []\n",
    "for export in export_values:\n",
    "    export_string.append(export.text)"
   ]
  },
  {
   "cell_type": "code",
   "execution_count": null,
   "metadata": {},
   "outputs": [],
   "source": [
    "export_values = []\n",
    "for e in export_string:\n",
    "    export_values.append(e.strip().replace(\",\",\"\"))"
   ]
  },
  {
   "cell_type": "code",
   "execution_count": null,
   "metadata": {},
   "outputs": [],
   "source": [
    "export_value_df = pd.Series(export_values).str.strip().rename_axis(\"index\").rename(\"Exports\")\n",
    "export_value_df = export_value_df.to_frame()"
   ]
  },
  {
   "cell_type": "code",
   "execution_count": null,
   "metadata": {},
   "outputs": [],
   "source": [
    "export_df = pd.merge(export_country_df,export_value_df, on=\"index\").set_index(\"Country\")\n",
    "export_df = export_df.astype(float)\n",
    "export_df[\"Log_Exports\"] = np.log(export_df[\"Exports\"])\n",
    "export_df"
   ]
  },
  {
   "cell_type": "code",
   "execution_count": null,
   "metadata": {},
   "outputs": [],
   "source": [
    "world_wine_export = pd.merge(world_wine_vy, export_df, on=\"Country\", how=\"left\")\n",
    "world_wine_export"
   ]
  },
  {
   "cell_type": "markdown",
   "metadata": {},
   "source": [
    "### Import Data"
   ]
  },
  {
   "cell_type": "code",
   "execution_count": null,
   "metadata": {},
   "outputs": [],
   "source": [
    "'''scrape wine region data with coresponding wines'''\n",
    "req = Request(IMPORT_URL , headers={'User-Agent': 'Mozilla/5.0'})\n",
    "\n",
    "webpage = urlopen(req).read()\n",
    "\n",
    "soup = BeautifulSoup(webpage, \"html.parser\")"
   ]
  },
  {
   "cell_type": "code",
   "execution_count": null,
   "metadata": {},
   "outputs": [],
   "source": [
    "import_tables = soup.find_all(\"div\", class_=\"country-name\")"
   ]
  },
  {
   "cell_type": "code",
   "execution_count": null,
   "metadata": {},
   "outputs": [],
   "source": [
    "import_country = []\n",
    "for unit in import_tables:\n",
    "    import_country.append(unit.text)"
   ]
  },
  {
   "cell_type": "code",
   "execution_count": null,
   "metadata": {},
   "outputs": [],
   "source": [
    "import_country_df = pd.Series(import_country).str.strip().rename_axis(\"index\").rename(\"Country\")\n",
    "import_country_df.to_frame()"
   ]
  },
  {
   "cell_type": "code",
   "execution_count": null,
   "metadata": {},
   "outputs": [],
   "source": [
    "import_values = soup.find_all(\"td\", class_=\"last-value\")"
   ]
  },
  {
   "cell_type": "code",
   "execution_count": null,
   "metadata": {},
   "outputs": [],
   "source": [
    "import_string = []\n",
    "for unit in import_values:\n",
    "    import_string.append(unit.text)"
   ]
  },
  {
   "cell_type": "code",
   "execution_count": null,
   "metadata": {},
   "outputs": [],
   "source": [
    "import_values = []\n",
    "for unit in import_string:\n",
    "    import_values.append(unit.strip().replace(\",\",\"\"))"
   ]
  },
  {
   "cell_type": "code",
   "execution_count": null,
   "metadata": {},
   "outputs": [],
   "source": [
    "import_value_df = pd.Series(import_values).str.strip().rename_axis(\"index\").rename(\"Imports\")\n",
    "import_value_df.to_frame()"
   ]
  },
  {
   "cell_type": "code",
   "execution_count": null,
   "metadata": {},
   "outputs": [],
   "source": [
    "import_df = pd.merge(import_country_df,import_value_df, on=\"index\").set_index(\"Country\")\n",
    "import_df = import_df.astype(float)\n",
    "import_df[\"Log_Imports\"] = np.log(import_df[\"Imports\"])\n",
    "import_df"
   ]
  },
  {
   "cell_type": "code",
   "execution_count": null,
   "metadata": {},
   "outputs": [],
   "source": [
    "world_wine_import = pd.merge(world_wine_export, import_df, on=\"Country\", how=\"left\")\n",
    "world_wine_import"
   ]
  },
  {
   "cell_type": "markdown",
   "metadata": {},
   "source": [
    "### Consumption Data"
   ]
  },
  {
   "cell_type": "code",
   "execution_count": null,
   "metadata": {},
   "outputs": [],
   "source": [
    "'''scrape wine region data with coresponding wines'''\n",
    "req = Request(CONSUMPTION_URL , headers={'User-Agent': 'Mozilla/5.0'})\n",
    "\n",
    "webpage = urlopen(req).read()\n",
    "\n",
    "soup = BeautifulSoup(webpage, \"html.parser\")"
   ]
  },
  {
   "cell_type": "code",
   "execution_count": null,
   "metadata": {},
   "outputs": [],
   "source": [
    "consumption_tables = soup.find_all(\"div\", class_=\"country-name\")"
   ]
  },
  {
   "cell_type": "code",
   "execution_count": null,
   "metadata": {},
   "outputs": [],
   "source": [
    "consumption_country = []\n",
    "for consumption in consumption_tables:\n",
    "    consumption_country.append(consumption.text)"
   ]
  },
  {
   "cell_type": "code",
   "execution_count": null,
   "metadata": {},
   "outputs": [],
   "source": [
    "consumption_country_df = pd.Series(consumption_country).str.strip().rename_axis(\"index\").rename(\"Country\")\n",
    "consumption_country_df.to_frame()"
   ]
  },
  {
   "cell_type": "code",
   "execution_count": null,
   "metadata": {},
   "outputs": [],
   "source": [
    "consumption_values = soup.find_all(\"td\", class_=\"last-value\")"
   ]
  },
  {
   "cell_type": "code",
   "execution_count": null,
   "metadata": {},
   "outputs": [],
   "source": [
    "consumption_string = []\n",
    "for consumption in consumption_values:\n",
    "    consumption_string.append(consumption.text)"
   ]
  },
  {
   "cell_type": "code",
   "execution_count": null,
   "metadata": {},
   "outputs": [],
   "source": [
    "consumption_value = []\n",
    "for consumption in consumption_string:\n",
    "    consumption_value.append(consumption.strip().replace(\",\",\"\"))"
   ]
  },
  {
   "cell_type": "code",
   "execution_count": null,
   "metadata": {},
   "outputs": [],
   "source": [
    "consumption_value_df = pd.Series(consumption_value).str.strip().rename_axis(\"index\").rename(\"Consumption\")\n",
    "consumption_value_df.to_frame()"
   ]
  },
  {
   "cell_type": "code",
   "execution_count": null,
   "metadata": {},
   "outputs": [],
   "source": [
    "consumption_df = pd.merge(consumption_country_df,consumption_value_df, on=\"index\").set_index(\"Country\")\n",
    "consumption_df = consumption_df.astype(float)/1000"
   ]
  },
  {
   "cell_type": "code",
   "execution_count": null,
   "metadata": {},
   "outputs": [],
   "source": [
    "world_wine_data = pd.merge(world_wine_import, consumption_df, on=\"Country\", how=\"left\").fillna(0)\n",
    "world_wine_data"
   ]
  },
  {
   "cell_type": "code",
   "execution_count": null,
   "metadata": {},
   "outputs": [],
   "source": [
    "world_wine_data[\"Exports\"] = world_wine_data[\"Exports\"].astype(float)\n",
    "world_wine_data[\"Imports\"].astype(float)"
   ]
  },
  {
   "cell_type": "code",
   "execution_count": null,
   "metadata": {},
   "outputs": [],
   "source": [
    "world_wine_data"
   ]
  },
  {
   "cell_type": "code",
   "execution_count": null,
   "metadata": {},
   "outputs": [],
   "source": [
    "world_wine_data.to_csv(\"world_wine_data.csv\")"
   ]
  },
  {
   "cell_type": "code",
   "execution_count": null,
   "metadata": {},
   "outputs": [],
   "source": []
  },
  {
   "cell_type": "code",
   "execution_count": null,
   "metadata": {},
   "outputs": [],
   "source": []
  },
  {
   "cell_type": "code",
   "execution_count": null,
   "metadata": {},
   "outputs": [],
   "source": []
  }
 ],
 "metadata": {
  "kernelspec": {
   "display_name": "project_2",
   "language": "python",
   "name": "project_2"
  },
  "language_info": {
   "codemirror_mode": {
    "name": "ipython",
    "version": 3
   },
   "file_extension": ".py",
   "mimetype": "text/x-python",
   "name": "python",
   "nbconvert_exporter": "python",
   "pygments_lexer": "ipython3",
   "version": "3.7.5"
  }
 },
 "nbformat": 4,
 "nbformat_minor": 4
}
