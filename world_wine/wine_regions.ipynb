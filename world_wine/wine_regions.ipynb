{
 "cells": [
  {
   "cell_type": "code",
   "execution_count": 1,
   "metadata": {},
   "outputs": [],
   "source": [
    "import requests\n",
    "import pandas as pd\n",
    "from bs4 import BeautifulSoup\n",
    "import lxml\n",
    "from urllib.request import Request, urlopen\n",
    "import numpy as np"
   ]
  },
  {
   "cell_type": "markdown",
   "metadata": {},
   "source": [
    "### URLs Used"
   ]
  },
  {
   "cell_type": "code",
   "execution_count": 2,
   "metadata": {},
   "outputs": [],
   "source": [
    "WINE_REGION_URL2 = \"https://www.tonymappedit.com/top-10-wine-producing-countries/\"\n",
    "WIKI_COUNTRIES = \"https://en.wikipedia.org/wiki/ISO_3166-1_alpha-3\"\n",
    "VINEYARD_URL = \"https://www.bkwine.com/features/more/world-wine-production-reaches-record-level-2018-consumption-stable/\"\n",
    "EXPORT_URL = \"https://www.nationmaster.com/nmx/ranking/export-of-fortified-wine-or-must\"\n",
    "IMPORT_URL = \"https://www.nationmaster.com/nmx/ranking/import-of-fortified-wine-or-must\"\n",
    "CONSUMPTION_URL = \"https://www.nationmaster.com/nmx/ranking/wine-consumption\""
   ]
  },
  {
   "cell_type": "markdown",
   "metadata": {},
   "source": [
    "### Wine Production Data"
   ]
  },
  {
   "cell_type": "code",
   "execution_count": 3,
   "metadata": {},
   "outputs": [],
   "source": [
    "'''scrape wine region data with coresponding wines'''\n",
    "req = Request(WINE_REGION_URL2 , headers={'User-Agent': 'Mozilla/5.0'})\n",
    "\n",
    "webpage = urlopen(req).read()\n",
    "\n",
    "# html_text = requests.get(WINE_REGION_URL).text\n",
    "soup = BeautifulSoup(webpage, \"html.parser\")"
   ]
  },
  {
   "cell_type": "code",
   "execution_count": 4,
   "metadata": {},
   "outputs": [],
   "source": [
    "country1 = []\n",
    "countries = soup.find_all(\"ol\")[1]\n",
    "items = countries.find_all(\"li\")\n",
    "\n",
    "for country in items:\n",
    "    country1.append(country.text.split(\": \"))"
   ]
  },
  {
   "cell_type": "code",
   "execution_count": 5,
   "metadata": {},
   "outputs": [],
   "source": [
    "country2 = []\n",
    "countries2 = soup.find_all(\"ol\")[2]\n",
    "items = countries2.find_all(\"li\")\n",
    "\n",
    "for country in items:\n",
    "    country2.append(country.text.split(\": \"))"
   ]
  },
  {
   "cell_type": "code",
   "execution_count": 6,
   "metadata": {},
   "outputs": [],
   "source": [
    "country_production = country1 + country2"
   ]
  },
  {
   "cell_type": "code",
   "execution_count": 7,
   "metadata": {},
   "outputs": [
    {
     "data": {
      "text/html": [
       "<div>\n",
       "<style scoped>\n",
       "    .dataframe tbody tr th:only-of-type {\n",
       "        vertical-align: middle;\n",
       "    }\n",
       "\n",
       "    .dataframe tbody tr th {\n",
       "        vertical-align: top;\n",
       "    }\n",
       "\n",
       "    .dataframe thead th {\n",
       "        text-align: right;\n",
       "    }\n",
       "</style>\n",
       "<table border=\"1\" class=\"dataframe\">\n",
       "  <thead>\n",
       "    <tr style=\"text-align: right;\">\n",
       "      <th></th>\n",
       "      <th>Wine Production</th>\n",
       "    </tr>\n",
       "    <tr>\n",
       "      <th>Country</th>\n",
       "      <th></th>\n",
       "    </tr>\n",
       "  </thead>\n",
       "  <tbody>\n",
       "    <tr>\n",
       "      <th>Italy</th>\n",
       "      <td>54.8</td>\n",
       "    </tr>\n",
       "    <tr>\n",
       "      <th>France</th>\n",
       "      <td>49.1</td>\n",
       "    </tr>\n",
       "    <tr>\n",
       "      <th>Spain</th>\n",
       "      <td>44.4</td>\n",
       "    </tr>\n",
       "    <tr>\n",
       "      <th>United States</th>\n",
       "      <td>23.9</td>\n",
       "    </tr>\n",
       "    <tr>\n",
       "      <th>Argentina</th>\n",
       "      <td>14.5</td>\n",
       "    </tr>\n",
       "  </tbody>\n",
       "</table>\n",
       "</div>"
      ],
      "text/plain": [
       "               Wine Production\n",
       "Country                       \n",
       "Italy                     54.8\n",
       "France                    49.1\n",
       "Spain                     44.4\n",
       "United States             23.9\n",
       "Argentina                 14.5"
      ]
     },
     "execution_count": 7,
     "metadata": {},
     "output_type": "execute_result"
    }
   ],
   "source": [
    "country_production_df = pd.DataFrame(country_production).rename(columns = {0: \"Country\", 1: \"Wine Production\"}).set_index(\"Country\")\n",
    "country_production_df.astype(\"float64\").head()"
   ]
  },
  {
   "cell_type": "markdown",
   "metadata": {},
   "source": [
    "### Country Code Data"
   ]
  },
  {
   "cell_type": "code",
   "execution_count": 8,
   "metadata": {},
   "outputs": [],
   "source": [
    "'''scrape wine region data with coresponding wines'''\n",
    "req = Request(WIKI_COUNTRIES , headers={'User-Agent': 'Mozilla/5.0'})\n",
    "\n",
    "webpage = urlopen(req).read()\n",
    "\n",
    "# html_text = requests.get(WINE_REGION_URL).text\n",
    "soup = BeautifulSoup(webpage, \"html.parser\")"
   ]
  },
  {
   "cell_type": "code",
   "execution_count": 9,
   "metadata": {},
   "outputs": [],
   "source": [
    "table = soup.find(\"div\", class_=\"plainlist\")\n",
    "country_codes = table.find_all(\"span\")\n",
    "countries = table.find_all(\"a\")"
   ]
  },
  {
   "cell_type": "code",
   "execution_count": 10,
   "metadata": {},
   "outputs": [],
   "source": [
    "country_list = []\n",
    "for country in countries:\n",
    "    country_list.append(country.text)"
   ]
  },
  {
   "cell_type": "code",
   "execution_count": 11,
   "metadata": {},
   "outputs": [],
   "source": [
    "code_list = []\n",
    "for code in country_codes:\n",
    "    code_list.append(code.text)"
   ]
  },
  {
   "cell_type": "code",
   "execution_count": 12,
   "metadata": {},
   "outputs": [],
   "source": [
    "#Province of China was index 229. \n",
    "country_df = pd.DataFrame(country_list).drop([229]).reset_index().drop(columns = [\"index\"])\n",
    "country_df = country_df.rename(columns = {0: \"Country\"}).reset_index().set_index(\"index\")"
   ]
  },
  {
   "cell_type": "code",
   "execution_count": 13,
   "metadata": {},
   "outputs": [],
   "source": [
    "code_df = pd.DataFrame(code_list).reset_index().drop(columns = [\"index\"])\n",
    "code_df = code_df.rename(columns = {0: \"CODES\"}).reset_index().set_index(\"index\")"
   ]
  },
  {
   "cell_type": "code",
   "execution_count": 14,
   "metadata": {},
   "outputs": [
    {
     "data": {
      "text/html": [
       "<div>\n",
       "<style scoped>\n",
       "    .dataframe tbody tr th:only-of-type {\n",
       "        vertical-align: middle;\n",
       "    }\n",
       "\n",
       "    .dataframe tbody tr th {\n",
       "        vertical-align: top;\n",
       "    }\n",
       "\n",
       "    .dataframe thead th {\n",
       "        text-align: right;\n",
       "    }\n",
       "</style>\n",
       "<table border=\"1\" class=\"dataframe\">\n",
       "  <thead>\n",
       "    <tr style=\"text-align: right;\">\n",
       "      <th></th>\n",
       "      <th>CODES</th>\n",
       "    </tr>\n",
       "    <tr>\n",
       "      <th>Country</th>\n",
       "      <th></th>\n",
       "    </tr>\n",
       "  </thead>\n",
       "  <tbody>\n",
       "    <tr>\n",
       "      <th>Aruba</th>\n",
       "      <td>ABW</td>\n",
       "    </tr>\n",
       "    <tr>\n",
       "      <th>Afghanistan</th>\n",
       "      <td>AFG</td>\n",
       "    </tr>\n",
       "    <tr>\n",
       "      <th>Angola</th>\n",
       "      <td>AGO</td>\n",
       "    </tr>\n",
       "    <tr>\n",
       "      <th>Anguilla</th>\n",
       "      <td>AIA</td>\n",
       "    </tr>\n",
       "    <tr>\n",
       "      <th>Åland Islands</th>\n",
       "      <td>ALA</td>\n",
       "    </tr>\n",
       "  </tbody>\n",
       "</table>\n",
       "</div>"
      ],
      "text/plain": [
       "              CODES\n",
       "Country            \n",
       "Aruba           ABW\n",
       "Afghanistan     AFG\n",
       "Angola          AGO\n",
       "Anguilla        AIA\n",
       "Åland Islands   ALA"
      ]
     },
     "execution_count": 14,
     "metadata": {},
     "output_type": "execute_result"
    }
   ],
   "source": [
    "country_code_df = pd.merge(country_df, code_df, on=\"index\", how=\"outer\").set_index(\"Country\").rename(index = {\"United States of America\" : \"United States\"})\n",
    "country_code_df.head()"
   ]
  },
  {
   "cell_type": "code",
   "execution_count": 15,
   "metadata": {},
   "outputs": [
    {
     "data": {
      "text/html": [
       "<div>\n",
       "<style scoped>\n",
       "    .dataframe tbody tr th:only-of-type {\n",
       "        vertical-align: middle;\n",
       "    }\n",
       "\n",
       "    .dataframe tbody tr th {\n",
       "        vertical-align: top;\n",
       "    }\n",
       "\n",
       "    .dataframe thead th {\n",
       "        text-align: right;\n",
       "    }\n",
       "</style>\n",
       "<table border=\"1\" class=\"dataframe\">\n",
       "  <thead>\n",
       "    <tr style=\"text-align: right;\">\n",
       "      <th></th>\n",
       "      <th>Wine Production</th>\n",
       "      <th>CODES</th>\n",
       "    </tr>\n",
       "    <tr>\n",
       "      <th>Country</th>\n",
       "      <th></th>\n",
       "      <th></th>\n",
       "    </tr>\n",
       "  </thead>\n",
       "  <tbody>\n",
       "    <tr>\n",
       "      <th>Italy</th>\n",
       "      <td>54.8</td>\n",
       "      <td>ITA</td>\n",
       "    </tr>\n",
       "    <tr>\n",
       "      <th>France</th>\n",
       "      <td>49.1</td>\n",
       "      <td>FRA</td>\n",
       "    </tr>\n",
       "    <tr>\n",
       "      <th>Spain</th>\n",
       "      <td>44.4</td>\n",
       "      <td>ESP</td>\n",
       "    </tr>\n",
       "    <tr>\n",
       "      <th>United States</th>\n",
       "      <td>23.9</td>\n",
       "      <td>USA</td>\n",
       "    </tr>\n",
       "    <tr>\n",
       "      <th>Argentina</th>\n",
       "      <td>14.5</td>\n",
       "      <td>ARG</td>\n",
       "    </tr>\n",
       "  </tbody>\n",
       "</table>\n",
       "</div>"
      ],
      "text/plain": [
       "              Wine Production CODES\n",
       "Country                            \n",
       "Italy                    54.8   ITA\n",
       "France                   49.1   FRA\n",
       "Spain                    44.4   ESP\n",
       "United States            23.9   USA\n",
       "Argentina                14.5   ARG"
      ]
     },
     "execution_count": 15,
     "metadata": {},
     "output_type": "execute_result"
    }
   ],
   "source": [
    "wine_production = pd.merge(country_production_df,country_code_df,  how=\"right\", on=\"Country\").rename(columns = {'Alpha-3 code':'CODE'}).fillna(0)\n",
    "wine_production.head()"
   ]
  },
  {
   "cell_type": "markdown",
   "metadata": {},
   "source": [
    "### Vineyard Data"
   ]
  },
  {
   "cell_type": "code",
   "execution_count": 16,
   "metadata": {},
   "outputs": [],
   "source": [
    "'''scrape wine region data with coresponding wines'''\n",
    "req = Request(VINEYARD_URL , headers={'User-Agent': 'Mozilla/5.0'})\n",
    "\n",
    "webpage = urlopen(req).read()\n",
    "\n",
    "soup = BeautifulSoup(webpage, \"html.parser\")"
   ]
  },
  {
   "cell_type": "code",
   "execution_count": 17,
   "metadata": {},
   "outputs": [],
   "source": [
    "vineyard_table = soup.find_all(\"table\", id=\"tablepress-762\")[0]\n",
    "vine_country = vineyard_table.find_all(\"td\", class_=\"column-2\")\n",
    "vine_acreage = vineyard_table.find_all(\"td\", class_=\"column-3\")"
   ]
  },
  {
   "cell_type": "code",
   "execution_count": 18,
   "metadata": {},
   "outputs": [],
   "source": [
    "vine_countries = []\n",
    "for country in vine_country:\n",
    "    vine_countries.append(country.text)"
   ]
  },
  {
   "cell_type": "code",
   "execution_count": 19,
   "metadata": {},
   "outputs": [],
   "source": [
    "plot_sizes = []\n",
    "for plot_size in vine_acreage:\n",
    "    plot_sizes.append(plot_size.text)"
   ]
  },
  {
   "cell_type": "code",
   "execution_count": 20,
   "metadata": {},
   "outputs": [],
   "source": [
    "country_vy = pd.DataFrame(vine_countries).drop([0,27,28,29,30]).reset_index().replace('\\*','',regex=True).rename(columns = {0: \"Country\"})\n",
    "size_vy = pd.DataFrame(plot_sizes).drop([0,27,28]).reset_index().rename(columns = {0: \"Largest Vineyards\"})"
   ]
  },
  {
   "cell_type": "code",
   "execution_count": 21,
   "metadata": {},
   "outputs": [
    {
     "data": {
      "text/html": [
       "<div>\n",
       "<style scoped>\n",
       "    .dataframe tbody tr th:only-of-type {\n",
       "        vertical-align: middle;\n",
       "    }\n",
       "\n",
       "    .dataframe tbody tr th {\n",
       "        vertical-align: top;\n",
       "    }\n",
       "\n",
       "    .dataframe thead th {\n",
       "        text-align: right;\n",
       "    }\n",
       "</style>\n",
       "<table border=\"1\" class=\"dataframe\">\n",
       "  <thead>\n",
       "    <tr style=\"text-align: right;\">\n",
       "      <th></th>\n",
       "      <th>Largest Vineyards</th>\n",
       "    </tr>\n",
       "    <tr>\n",
       "      <th>Country</th>\n",
       "      <th></th>\n",
       "    </tr>\n",
       "  </thead>\n",
       "  <tbody>\n",
       "    <tr>\n",
       "      <th>Spain</th>\n",
       "      <td>969</td>\n",
       "    </tr>\n",
       "    <tr>\n",
       "      <th>China</th>\n",
       "      <td>875</td>\n",
       "    </tr>\n",
       "    <tr>\n",
       "      <th>France</th>\n",
       "      <td>789</td>\n",
       "    </tr>\n",
       "    <tr>\n",
       "      <th>Italy</th>\n",
       "      <td>702</td>\n",
       "    </tr>\n",
       "    <tr>\n",
       "      <th>Turkey</th>\n",
       "      <td>448</td>\n",
       "    </tr>\n",
       "  </tbody>\n",
       "</table>\n",
       "</div>"
      ],
      "text/plain": [
       "        Largest Vineyards\n",
       "Country                  \n",
       "Spain                 969\n",
       "China                 875\n",
       "France                789\n",
       "Italy                 702\n",
       "Turkey                448"
      ]
     },
     "execution_count": 21,
     "metadata": {},
     "output_type": "execute_result"
    }
   ],
   "source": [
    "vineyard_data = pd.merge(country_vy, size_vy, on=\"index\").drop(columns = [\"index\"]).set_index(\"Country\").rename(index = {\"USA\" : \"United States\"})\n",
    "vineyard_data.head()"
   ]
  },
  {
   "cell_type": "code",
   "execution_count": 22,
   "metadata": {},
   "outputs": [
    {
     "data": {
      "text/html": [
       "<div>\n",
       "<style scoped>\n",
       "    .dataframe tbody tr th:only-of-type {\n",
       "        vertical-align: middle;\n",
       "    }\n",
       "\n",
       "    .dataframe tbody tr th {\n",
       "        vertical-align: top;\n",
       "    }\n",
       "\n",
       "    .dataframe thead th {\n",
       "        text-align: right;\n",
       "    }\n",
       "</style>\n",
       "<table border=\"1\" class=\"dataframe\">\n",
       "  <thead>\n",
       "    <tr style=\"text-align: right;\">\n",
       "      <th></th>\n",
       "      <th>Wine Production</th>\n",
       "      <th>CODES</th>\n",
       "      <th>Largest Vineyards</th>\n",
       "    </tr>\n",
       "    <tr>\n",
       "      <th>Country</th>\n",
       "      <th></th>\n",
       "      <th></th>\n",
       "      <th></th>\n",
       "    </tr>\n",
       "  </thead>\n",
       "  <tbody>\n",
       "    <tr>\n",
       "      <th>Italy</th>\n",
       "      <td>54.8</td>\n",
       "      <td>ITA</td>\n",
       "      <td>702</td>\n",
       "    </tr>\n",
       "    <tr>\n",
       "      <th>France</th>\n",
       "      <td>49.1</td>\n",
       "      <td>FRA</td>\n",
       "      <td>789</td>\n",
       "    </tr>\n",
       "    <tr>\n",
       "      <th>Spain</th>\n",
       "      <td>44.4</td>\n",
       "      <td>ESP</td>\n",
       "      <td>969</td>\n",
       "    </tr>\n",
       "    <tr>\n",
       "      <th>United States</th>\n",
       "      <td>23.9</td>\n",
       "      <td>USA</td>\n",
       "      <td>430</td>\n",
       "    </tr>\n",
       "    <tr>\n",
       "      <th>Argentina</th>\n",
       "      <td>14.5</td>\n",
       "      <td>ARG</td>\n",
       "      <td>219</td>\n",
       "    </tr>\n",
       "  </tbody>\n",
       "</table>\n",
       "</div>"
      ],
      "text/plain": [
       "              Wine Production CODES Largest Vineyards\n",
       "Country                                              \n",
       "Italy                    54.8   ITA               702\n",
       "France                   49.1   FRA               789\n",
       "Spain                    44.4   ESP               969\n",
       "United States            23.9   USA               430\n",
       "Argentina                14.5   ARG               219"
      ]
     },
     "execution_count": 22,
     "metadata": {},
     "output_type": "execute_result"
    }
   ],
   "source": [
    "world_wine_vy = pd.merge(wine_production, vineyard_data, on=\"Country\", how=\"left\").fillna(0)\n",
    "world_wine_vy.head()"
   ]
  },
  {
   "cell_type": "markdown",
   "metadata": {},
   "source": [
    "### Export Data"
   ]
  },
  {
   "cell_type": "code",
   "execution_count": 23,
   "metadata": {},
   "outputs": [],
   "source": [
    "'''scrape wine region data with coresponding wines'''\n",
    "req = Request(EXPORT_URL , headers={'User-Agent': 'Mozilla/5.0'})\n",
    "\n",
    "webpage = urlopen(req).read()\n",
    "\n",
    "soup = BeautifulSoup(webpage, \"html.parser\")"
   ]
  },
  {
   "cell_type": "code",
   "execution_count": 24,
   "metadata": {},
   "outputs": [],
   "source": [
    "export_tables = soup.find_all(\"div\", class_=\"country-name\")"
   ]
  },
  {
   "cell_type": "code",
   "execution_count": 25,
   "metadata": {},
   "outputs": [],
   "source": [
    "export_country = []\n",
    "for export in export_tables:\n",
    "    export_country.append(export.text)"
   ]
  },
  {
   "cell_type": "code",
   "execution_count": 26,
   "metadata": {},
   "outputs": [
    {
     "data": {
      "text/html": [
       "<div>\n",
       "<style scoped>\n",
       "    .dataframe tbody tr th:only-of-type {\n",
       "        vertical-align: middle;\n",
       "    }\n",
       "\n",
       "    .dataframe tbody tr th {\n",
       "        vertical-align: top;\n",
       "    }\n",
       "\n",
       "    .dataframe thead th {\n",
       "        text-align: right;\n",
       "    }\n",
       "</style>\n",
       "<table border=\"1\" class=\"dataframe\">\n",
       "  <thead>\n",
       "    <tr style=\"text-align: right;\">\n",
       "      <th></th>\n",
       "      <th>Country</th>\n",
       "    </tr>\n",
       "    <tr>\n",
       "      <th>index</th>\n",
       "      <th></th>\n",
       "    </tr>\n",
       "  </thead>\n",
       "  <tbody>\n",
       "    <tr>\n",
       "      <th>0</th>\n",
       "      <td>France</td>\n",
       "    </tr>\n",
       "    <tr>\n",
       "      <th>1</th>\n",
       "      <td>Italy</td>\n",
       "    </tr>\n",
       "    <tr>\n",
       "      <th>2</th>\n",
       "      <td>Spain</td>\n",
       "    </tr>\n",
       "    <tr>\n",
       "      <th>3</th>\n",
       "      <td>Chile</td>\n",
       "    </tr>\n",
       "    <tr>\n",
       "      <th>4</th>\n",
       "      <td>Australia</td>\n",
       "    </tr>\n",
       "  </tbody>\n",
       "</table>\n",
       "</div>"
      ],
      "text/plain": [
       "         Country\n",
       "index           \n",
       "0         France\n",
       "1          Italy\n",
       "2          Spain\n",
       "3          Chile\n",
       "4      Australia"
      ]
     },
     "execution_count": 26,
     "metadata": {},
     "output_type": "execute_result"
    }
   ],
   "source": [
    "export_country_df = pd.Series(export_country).str.strip().rename_axis(\"index\").rename(\"Country\")\n",
    "export_country_df.to_frame().head()"
   ]
  },
  {
   "cell_type": "code",
   "execution_count": 27,
   "metadata": {},
   "outputs": [],
   "source": [
    "export_values = soup.find_all(\"td\", class_=\"last-value\")"
   ]
  },
  {
   "cell_type": "code",
   "execution_count": 28,
   "metadata": {},
   "outputs": [],
   "source": [
    "export_string = []\n",
    "for export in export_values:\n",
    "    export_string.append(export.text)"
   ]
  },
  {
   "cell_type": "code",
   "execution_count": 29,
   "metadata": {},
   "outputs": [],
   "source": [
    "export_values = []\n",
    "for e in export_string:\n",
    "    export_values.append(e.strip().replace(\",\",\"\"))"
   ]
  },
  {
   "cell_type": "code",
   "execution_count": 114,
   "metadata": {},
   "outputs": [],
   "source": [
    "export_value_df = pd.Series(export_values).str.strip().rename_axis(\"index\").rename(\"Exports_Values\")\n",
    "export_value_df = export_value_df.to_frame()"
   ]
  },
  {
   "cell_type": "code",
   "execution_count": 115,
   "metadata": {},
   "outputs": [
    {
     "data": {
      "text/html": [
       "<div>\n",
       "<style scoped>\n",
       "    .dataframe tbody tr th:only-of-type {\n",
       "        vertical-align: middle;\n",
       "    }\n",
       "\n",
       "    .dataframe tbody tr th {\n",
       "        vertical-align: top;\n",
       "    }\n",
       "\n",
       "    .dataframe thead th {\n",
       "        text-align: right;\n",
       "    }\n",
       "</style>\n",
       "<table border=\"1\" class=\"dataframe\">\n",
       "  <thead>\n",
       "    <tr style=\"text-align: right;\">\n",
       "      <th></th>\n",
       "      <th>Exports_Values</th>\n",
       "      <th>Exports</th>\n",
       "    </tr>\n",
       "    <tr>\n",
       "      <th>Country</th>\n",
       "      <th></th>\n",
       "      <th></th>\n",
       "    </tr>\n",
       "  </thead>\n",
       "  <tbody>\n",
       "    <tr>\n",
       "      <th>France</th>\n",
       "      <td>5.804651e+09</td>\n",
       "      <td>22.481925</td>\n",
       "    </tr>\n",
       "    <tr>\n",
       "      <th>Italy</th>\n",
       "      <td>4.771361e+09</td>\n",
       "      <td>22.285897</td>\n",
       "    </tr>\n",
       "    <tr>\n",
       "      <th>Spain</th>\n",
       "      <td>2.054743e+09</td>\n",
       "      <td>21.443417</td>\n",
       "    </tr>\n",
       "    <tr>\n",
       "      <th>Chile</th>\n",
       "      <td>1.646745e+09</td>\n",
       "      <td>21.222066</td>\n",
       "    </tr>\n",
       "    <tr>\n",
       "      <th>Australia</th>\n",
       "      <td>1.310510e+09</td>\n",
       "      <td>20.993682</td>\n",
       "    </tr>\n",
       "  </tbody>\n",
       "</table>\n",
       "</div>"
      ],
      "text/plain": [
       "           Exports_Values    Exports\n",
       "Country                             \n",
       "France       5.804651e+09  22.481925\n",
       "Italy        4.771361e+09  22.285897\n",
       "Spain        2.054743e+09  21.443417\n",
       "Chile        1.646745e+09  21.222066\n",
       "Australia    1.310510e+09  20.993682"
      ]
     },
     "execution_count": 115,
     "metadata": {},
     "output_type": "execute_result"
    }
   ],
   "source": [
    "export_df = pd.merge(export_country_df,export_value_df, on=\"index\").set_index(\"Country\")\n",
    "export_df = export_df.astype(float)\n",
    "export_df[\"Exports\"] = np.log(export_df[\"Exports_Values\"])\n",
    "export_df.head()"
   ]
  },
  {
   "cell_type": "code",
   "execution_count": 116,
   "metadata": {},
   "outputs": [
    {
     "data": {
      "text/html": [
       "<div>\n",
       "<style scoped>\n",
       "    .dataframe tbody tr th:only-of-type {\n",
       "        vertical-align: middle;\n",
       "    }\n",
       "\n",
       "    .dataframe tbody tr th {\n",
       "        vertical-align: top;\n",
       "    }\n",
       "\n",
       "    .dataframe thead th {\n",
       "        text-align: right;\n",
       "    }\n",
       "</style>\n",
       "<table border=\"1\" class=\"dataframe\">\n",
       "  <thead>\n",
       "    <tr style=\"text-align: right;\">\n",
       "      <th></th>\n",
       "      <th>Wine Production</th>\n",
       "      <th>CODES</th>\n",
       "      <th>Largest Vineyards</th>\n",
       "      <th>Exports_Values</th>\n",
       "      <th>Exports</th>\n",
       "    </tr>\n",
       "    <tr>\n",
       "      <th>Country</th>\n",
       "      <th></th>\n",
       "      <th></th>\n",
       "      <th></th>\n",
       "      <th></th>\n",
       "      <th></th>\n",
       "    </tr>\n",
       "  </thead>\n",
       "  <tbody>\n",
       "    <tr>\n",
       "      <th>Italy</th>\n",
       "      <td>54.8</td>\n",
       "      <td>ITA</td>\n",
       "      <td>702</td>\n",
       "      <td>4.771361e+09</td>\n",
       "      <td>22.285897</td>\n",
       "    </tr>\n",
       "    <tr>\n",
       "      <th>France</th>\n",
       "      <td>49.1</td>\n",
       "      <td>FRA</td>\n",
       "      <td>789</td>\n",
       "      <td>5.804651e+09</td>\n",
       "      <td>22.481925</td>\n",
       "    </tr>\n",
       "    <tr>\n",
       "      <th>Spain</th>\n",
       "      <td>44.4</td>\n",
       "      <td>ESP</td>\n",
       "      <td>969</td>\n",
       "      <td>2.054743e+09</td>\n",
       "      <td>21.443417</td>\n",
       "    </tr>\n",
       "    <tr>\n",
       "      <th>United States</th>\n",
       "      <td>23.9</td>\n",
       "      <td>USA</td>\n",
       "      <td>430</td>\n",
       "      <td>1.288961e+09</td>\n",
       "      <td>20.977102</td>\n",
       "    </tr>\n",
       "    <tr>\n",
       "      <th>Argentina</th>\n",
       "      <td>14.5</td>\n",
       "      <td>ARG</td>\n",
       "      <td>219</td>\n",
       "      <td>7.700278e+08</td>\n",
       "      <td>20.461937</td>\n",
       "    </tr>\n",
       "  </tbody>\n",
       "</table>\n",
       "</div>"
      ],
      "text/plain": [
       "              Wine Production CODES Largest Vineyards  Exports_Values  \\\n",
       "Country                                                                 \n",
       "Italy                    54.8   ITA               702    4.771361e+09   \n",
       "France                   49.1   FRA               789    5.804651e+09   \n",
       "Spain                    44.4   ESP               969    2.054743e+09   \n",
       "United States            23.9   USA               430    1.288961e+09   \n",
       "Argentina                14.5   ARG               219    7.700278e+08   \n",
       "\n",
       "                 Exports  \n",
       "Country                   \n",
       "Italy          22.285897  \n",
       "France         22.481925  \n",
       "Spain          21.443417  \n",
       "United States  20.977102  \n",
       "Argentina      20.461937  "
      ]
     },
     "execution_count": 116,
     "metadata": {},
     "output_type": "execute_result"
    }
   ],
   "source": [
    "world_wine_export = pd.merge(world_wine_vy, export_df, on=\"Country\", how=\"left\")\n",
    "world_wine_export.head()"
   ]
  },
  {
   "cell_type": "markdown",
   "metadata": {},
   "source": [
    "### Import Data"
   ]
  },
  {
   "cell_type": "code",
   "execution_count": 33,
   "metadata": {},
   "outputs": [],
   "source": [
    "'''scrape wine region data with coresponding wines'''\n",
    "req = Request(IMPORT_URL , headers={'User-Agent': 'Mozilla/5.0'})\n",
    "\n",
    "webpage = urlopen(req).read()\n",
    "\n",
    "soup = BeautifulSoup(webpage, \"html.parser\")"
   ]
  },
  {
   "cell_type": "code",
   "execution_count": 34,
   "metadata": {},
   "outputs": [],
   "source": [
    "import_tables = soup.find_all(\"div\", class_=\"country-name\")"
   ]
  },
  {
   "cell_type": "code",
   "execution_count": 35,
   "metadata": {},
   "outputs": [],
   "source": [
    "import_country = []\n",
    "for unit in import_tables:\n",
    "    import_country.append(unit.text)"
   ]
  },
  {
   "cell_type": "code",
   "execution_count": 36,
   "metadata": {},
   "outputs": [
    {
     "data": {
      "text/html": [
       "<div>\n",
       "<style scoped>\n",
       "    .dataframe tbody tr th:only-of-type {\n",
       "        vertical-align: middle;\n",
       "    }\n",
       "\n",
       "    .dataframe tbody tr th {\n",
       "        vertical-align: top;\n",
       "    }\n",
       "\n",
       "    .dataframe thead th {\n",
       "        text-align: right;\n",
       "    }\n",
       "</style>\n",
       "<table border=\"1\" class=\"dataframe\">\n",
       "  <thead>\n",
       "    <tr style=\"text-align: right;\">\n",
       "      <th></th>\n",
       "      <th>Country</th>\n",
       "    </tr>\n",
       "    <tr>\n",
       "      <th>index</th>\n",
       "      <th></th>\n",
       "    </tr>\n",
       "  </thead>\n",
       "  <tbody>\n",
       "    <tr>\n",
       "      <th>0</th>\n",
       "      <td>United States</td>\n",
       "    </tr>\n",
       "    <tr>\n",
       "      <th>1</th>\n",
       "      <td>United Kingdom</td>\n",
       "    </tr>\n",
       "    <tr>\n",
       "      <th>2</th>\n",
       "      <td>China</td>\n",
       "    </tr>\n",
       "    <tr>\n",
       "      <th>3</th>\n",
       "      <td>Germany</td>\n",
       "    </tr>\n",
       "    <tr>\n",
       "      <th>4</th>\n",
       "      <td>Canada</td>\n",
       "    </tr>\n",
       "  </tbody>\n",
       "</table>\n",
       "</div>"
      ],
      "text/plain": [
       "              Country\n",
       "index                \n",
       "0       United States\n",
       "1      United Kingdom\n",
       "2               China\n",
       "3             Germany\n",
       "4              Canada"
      ]
     },
     "execution_count": 36,
     "metadata": {},
     "output_type": "execute_result"
    }
   ],
   "source": [
    "import_country_df = pd.Series(import_country).str.strip().rename_axis(\"index\").rename(\"Country\")\n",
    "import_country_df.to_frame().head()"
   ]
  },
  {
   "cell_type": "code",
   "execution_count": 37,
   "metadata": {},
   "outputs": [],
   "source": [
    "import_values = soup.find_all(\"td\", class_=\"last-value\")"
   ]
  },
  {
   "cell_type": "code",
   "execution_count": 38,
   "metadata": {},
   "outputs": [],
   "source": [
    "import_string = []\n",
    "for unit in import_values:\n",
    "    import_string.append(unit.text)"
   ]
  },
  {
   "cell_type": "code",
   "execution_count": 57,
   "metadata": {},
   "outputs": [],
   "source": [
    "import_values = []\n",
    "for unit in import_string:\n",
    "    import_values.append(unit.strip().replace(\",\",\"\"))"
   ]
  },
  {
   "cell_type": "code",
   "execution_count": 117,
   "metadata": {},
   "outputs": [
    {
     "data": {
      "text/html": [
       "<div>\n",
       "<style scoped>\n",
       "    .dataframe tbody tr th:only-of-type {\n",
       "        vertical-align: middle;\n",
       "    }\n",
       "\n",
       "    .dataframe tbody tr th {\n",
       "        vertical-align: top;\n",
       "    }\n",
       "\n",
       "    .dataframe thead th {\n",
       "        text-align: right;\n",
       "    }\n",
       "</style>\n",
       "<table border=\"1\" class=\"dataframe\">\n",
       "  <thead>\n",
       "    <tr style=\"text-align: right;\">\n",
       "      <th></th>\n",
       "      <th>Imports_Values</th>\n",
       "    </tr>\n",
       "    <tr>\n",
       "      <th>index</th>\n",
       "      <th></th>\n",
       "    </tr>\n",
       "  </thead>\n",
       "  <tbody>\n",
       "    <tr>\n",
       "      <th>0</th>\n",
       "      <td>4646536989.52</td>\n",
       "    </tr>\n",
       "    <tr>\n",
       "      <th>1</th>\n",
       "      <td>2599546724.13</td>\n",
       "    </tr>\n",
       "    <tr>\n",
       "      <th>2</th>\n",
       "      <td>2374025494.80</td>\n",
       "    </tr>\n",
       "    <tr>\n",
       "      <th>3</th>\n",
       "      <td>1809853200.33</td>\n",
       "    </tr>\n",
       "    <tr>\n",
       "      <th>4</th>\n",
       "      <td>1657432367.71</td>\n",
       "    </tr>\n",
       "  </tbody>\n",
       "</table>\n",
       "</div>"
      ],
      "text/plain": [
       "      Imports_Values\n",
       "index               \n",
       "0      4646536989.52\n",
       "1      2599546724.13\n",
       "2      2374025494.80\n",
       "3      1809853200.33\n",
       "4      1657432367.71"
      ]
     },
     "execution_count": 117,
     "metadata": {},
     "output_type": "execute_result"
    }
   ],
   "source": [
    "import_value_df = pd.Series(import_values).str.strip().rename_axis(\"index\").rename(\"Imports_Values\")\n",
    "import_value_df.to_frame().head()"
   ]
  },
  {
   "cell_type": "code",
   "execution_count": 118,
   "metadata": {},
   "outputs": [
    {
     "data": {
      "text/html": [
       "<div>\n",
       "<style scoped>\n",
       "    .dataframe tbody tr th:only-of-type {\n",
       "        vertical-align: middle;\n",
       "    }\n",
       "\n",
       "    .dataframe tbody tr th {\n",
       "        vertical-align: top;\n",
       "    }\n",
       "\n",
       "    .dataframe thead th {\n",
       "        text-align: right;\n",
       "    }\n",
       "</style>\n",
       "<table border=\"1\" class=\"dataframe\">\n",
       "  <thead>\n",
       "    <tr style=\"text-align: right;\">\n",
       "      <th></th>\n",
       "      <th>Imports_Values</th>\n",
       "      <th>Imports</th>\n",
       "    </tr>\n",
       "    <tr>\n",
       "      <th>Country</th>\n",
       "      <th></th>\n",
       "      <th></th>\n",
       "    </tr>\n",
       "  </thead>\n",
       "  <tbody>\n",
       "    <tr>\n",
       "      <th>United States</th>\n",
       "      <td>4.646537e+09</td>\n",
       "      <td>22.259388</td>\n",
       "    </tr>\n",
       "    <tr>\n",
       "      <th>United Kingdom</th>\n",
       "      <td>2.599547e+09</td>\n",
       "      <td>21.678603</td>\n",
       "    </tr>\n",
       "    <tr>\n",
       "      <th>China</th>\n",
       "      <td>2.374025e+09</td>\n",
       "      <td>21.587853</td>\n",
       "    </tr>\n",
       "    <tr>\n",
       "      <th>Germany</th>\n",
       "      <td>1.809853e+09</td>\n",
       "      <td>21.316512</td>\n",
       "    </tr>\n",
       "    <tr>\n",
       "      <th>Canada</th>\n",
       "      <td>1.657432e+09</td>\n",
       "      <td>21.228535</td>\n",
       "    </tr>\n",
       "  </tbody>\n",
       "</table>\n",
       "</div>"
      ],
      "text/plain": [
       "                Imports_Values    Imports\n",
       "Country                                  \n",
       "United States     4.646537e+09  22.259388\n",
       "United Kingdom    2.599547e+09  21.678603\n",
       "China             2.374025e+09  21.587853\n",
       "Germany           1.809853e+09  21.316512\n",
       "Canada            1.657432e+09  21.228535"
      ]
     },
     "execution_count": 118,
     "metadata": {},
     "output_type": "execute_result"
    }
   ],
   "source": [
    "import_df = pd.merge(import_country_df,import_value_df, on=\"index\").set_index(\"Country\")\n",
    "import_df = import_df.astype(float)\n",
    "import_df[\"Imports\"] = np.log(import_df[\"Imports_Values\"])\n",
    "import_df.head()"
   ]
  },
  {
   "cell_type": "code",
   "execution_count": 119,
   "metadata": {},
   "outputs": [
    {
     "data": {
      "text/html": [
       "<div>\n",
       "<style scoped>\n",
       "    .dataframe tbody tr th:only-of-type {\n",
       "        vertical-align: middle;\n",
       "    }\n",
       "\n",
       "    .dataframe tbody tr th {\n",
       "        vertical-align: top;\n",
       "    }\n",
       "\n",
       "    .dataframe thead th {\n",
       "        text-align: right;\n",
       "    }\n",
       "</style>\n",
       "<table border=\"1\" class=\"dataframe\">\n",
       "  <thead>\n",
       "    <tr style=\"text-align: right;\">\n",
       "      <th></th>\n",
       "      <th>Wine Production</th>\n",
       "      <th>CODES</th>\n",
       "      <th>Largest Vineyards</th>\n",
       "      <th>Exports_Values</th>\n",
       "      <th>Exports</th>\n",
       "      <th>Imports_Values</th>\n",
       "      <th>Imports</th>\n",
       "    </tr>\n",
       "    <tr>\n",
       "      <th>Country</th>\n",
       "      <th></th>\n",
       "      <th></th>\n",
       "      <th></th>\n",
       "      <th></th>\n",
       "      <th></th>\n",
       "      <th></th>\n",
       "      <th></th>\n",
       "    </tr>\n",
       "  </thead>\n",
       "  <tbody>\n",
       "    <tr>\n",
       "      <th>Italy</th>\n",
       "      <td>54.8</td>\n",
       "      <td>ITA</td>\n",
       "      <td>702</td>\n",
       "      <td>4.771361e+09</td>\n",
       "      <td>22.285897</td>\n",
       "      <td>6.857568e+07</td>\n",
       "      <td>18.043449</td>\n",
       "    </tr>\n",
       "    <tr>\n",
       "      <th>France</th>\n",
       "      <td>49.1</td>\n",
       "      <td>FRA</td>\n",
       "      <td>789</td>\n",
       "      <td>5.804651e+09</td>\n",
       "      <td>22.481925</td>\n",
       "      <td>4.622402e+08</td>\n",
       "      <td>19.951595</td>\n",
       "    </tr>\n",
       "    <tr>\n",
       "      <th>Spain</th>\n",
       "      <td>44.4</td>\n",
       "      <td>ESP</td>\n",
       "      <td>969</td>\n",
       "      <td>2.054743e+09</td>\n",
       "      <td>21.443417</td>\n",
       "      <td>8.431718e+07</td>\n",
       "      <td>18.250096</td>\n",
       "    </tr>\n",
       "    <tr>\n",
       "      <th>United States</th>\n",
       "      <td>23.9</td>\n",
       "      <td>USA</td>\n",
       "      <td>430</td>\n",
       "      <td>1.288961e+09</td>\n",
       "      <td>20.977102</td>\n",
       "      <td>4.646537e+09</td>\n",
       "      <td>22.259388</td>\n",
       "    </tr>\n",
       "    <tr>\n",
       "      <th>Argentina</th>\n",
       "      <td>14.5</td>\n",
       "      <td>ARG</td>\n",
       "      <td>219</td>\n",
       "      <td>7.700278e+08</td>\n",
       "      <td>20.461937</td>\n",
       "      <td>2.563509e+06</td>\n",
       "      <td>14.756888</td>\n",
       "    </tr>\n",
       "  </tbody>\n",
       "</table>\n",
       "</div>"
      ],
      "text/plain": [
       "              Wine Production CODES Largest Vineyards  Exports_Values  \\\n",
       "Country                                                                 \n",
       "Italy                    54.8   ITA               702    4.771361e+09   \n",
       "France                   49.1   FRA               789    5.804651e+09   \n",
       "Spain                    44.4   ESP               969    2.054743e+09   \n",
       "United States            23.9   USA               430    1.288961e+09   \n",
       "Argentina                14.5   ARG               219    7.700278e+08   \n",
       "\n",
       "                 Exports  Imports_Values    Imports  \n",
       "Country                                              \n",
       "Italy          22.285897    6.857568e+07  18.043449  \n",
       "France         22.481925    4.622402e+08  19.951595  \n",
       "Spain          21.443417    8.431718e+07  18.250096  \n",
       "United States  20.977102    4.646537e+09  22.259388  \n",
       "Argentina      20.461937    2.563509e+06  14.756888  "
      ]
     },
     "execution_count": 119,
     "metadata": {},
     "output_type": "execute_result"
    }
   ],
   "source": [
    "world_wine_import = pd.merge(world_wine_export, import_df, on=\"Country\", how=\"left\")\n",
    "world_wine_import.head()"
   ]
  },
  {
   "cell_type": "markdown",
   "metadata": {},
   "source": [
    "### Consumption Data"
   ]
  },
  {
   "cell_type": "code",
   "execution_count": 120,
   "metadata": {},
   "outputs": [],
   "source": [
    "'''scrape wine region data with coresponding wines'''\n",
    "req = Request(CONSUMPTION_URL , headers={'User-Agent': 'Mozilla/5.0'})\n",
    "\n",
    "webpage = urlopen(req).read()\n",
    "\n",
    "soup = BeautifulSoup(webpage, \"html.parser\")"
   ]
  },
  {
   "cell_type": "code",
   "execution_count": 121,
   "metadata": {},
   "outputs": [],
   "source": [
    "consumption_tables = soup.find_all(\"div\", class_=\"country-name\")"
   ]
  },
  {
   "cell_type": "code",
   "execution_count": 122,
   "metadata": {},
   "outputs": [],
   "source": [
    "consumption_country = []\n",
    "for consumption in consumption_tables:\n",
    "    consumption_country.append(consumption.text)"
   ]
  },
  {
   "cell_type": "code",
   "execution_count": 123,
   "metadata": {},
   "outputs": [
    {
     "data": {
      "text/html": [
       "<div>\n",
       "<style scoped>\n",
       "    .dataframe tbody tr th:only-of-type {\n",
       "        vertical-align: middle;\n",
       "    }\n",
       "\n",
       "    .dataframe tbody tr th {\n",
       "        vertical-align: top;\n",
       "    }\n",
       "\n",
       "    .dataframe thead th {\n",
       "        text-align: right;\n",
       "    }\n",
       "</style>\n",
       "<table border=\"1\" class=\"dataframe\">\n",
       "  <thead>\n",
       "    <tr style=\"text-align: right;\">\n",
       "      <th></th>\n",
       "      <th>Country</th>\n",
       "    </tr>\n",
       "    <tr>\n",
       "      <th>index</th>\n",
       "      <th></th>\n",
       "    </tr>\n",
       "  </thead>\n",
       "  <tbody>\n",
       "    <tr>\n",
       "      <th>0</th>\n",
       "      <td>United States</td>\n",
       "    </tr>\n",
       "    <tr>\n",
       "      <th>1</th>\n",
       "      <td>France</td>\n",
       "    </tr>\n",
       "    <tr>\n",
       "      <th>2</th>\n",
       "      <td>Italy</td>\n",
       "    </tr>\n",
       "    <tr>\n",
       "      <th>3</th>\n",
       "      <td>Germany</td>\n",
       "    </tr>\n",
       "    <tr>\n",
       "      <th>4</th>\n",
       "      <td>China</td>\n",
       "    </tr>\n",
       "  </tbody>\n",
       "</table>\n",
       "</div>"
      ],
      "text/plain": [
       "             Country\n",
       "index               \n",
       "0      United States\n",
       "1             France\n",
       "2              Italy\n",
       "3            Germany\n",
       "4              China"
      ]
     },
     "execution_count": 123,
     "metadata": {},
     "output_type": "execute_result"
    }
   ],
   "source": [
    "consumption_country_df = pd.Series(consumption_country).str.strip().rename_axis(\"index\").rename(\"Country\")\n",
    "consumption_country_df.to_frame().head()"
   ]
  },
  {
   "cell_type": "code",
   "execution_count": 124,
   "metadata": {},
   "outputs": [],
   "source": [
    "consumption_values = soup.find_all(\"td\", class_=\"last-value\")"
   ]
  },
  {
   "cell_type": "code",
   "execution_count": 125,
   "metadata": {},
   "outputs": [],
   "source": [
    "consumption_string = []\n",
    "for consumption in consumption_values:\n",
    "    consumption_string.append(consumption.text)"
   ]
  },
  {
   "cell_type": "code",
   "execution_count": 126,
   "metadata": {},
   "outputs": [],
   "source": [
    "consumption_value = []\n",
    "for consumption in consumption_string:\n",
    "    consumption_value.append(consumption.strip().replace(\",\",\"\"))"
   ]
  },
  {
   "cell_type": "code",
   "execution_count": 127,
   "metadata": {},
   "outputs": [
    {
     "data": {
      "text/html": [
       "<div>\n",
       "<style scoped>\n",
       "    .dataframe tbody tr th:only-of-type {\n",
       "        vertical-align: middle;\n",
       "    }\n",
       "\n",
       "    .dataframe tbody tr th {\n",
       "        vertical-align: top;\n",
       "    }\n",
       "\n",
       "    .dataframe thead th {\n",
       "        text-align: right;\n",
       "    }\n",
       "</style>\n",
       "<table border=\"1\" class=\"dataframe\">\n",
       "  <thead>\n",
       "    <tr style=\"text-align: right;\">\n",
       "      <th></th>\n",
       "      <th>Consumption</th>\n",
       "    </tr>\n",
       "    <tr>\n",
       "      <th>index</th>\n",
       "      <th></th>\n",
       "    </tr>\n",
       "  </thead>\n",
       "  <tbody>\n",
       "    <tr>\n",
       "      <th>0</th>\n",
       "      <td>32597.00</td>\n",
       "    </tr>\n",
       "    <tr>\n",
       "      <th>1</th>\n",
       "      <td>26196.00</td>\n",
       "    </tr>\n",
       "    <tr>\n",
       "      <th>2</th>\n",
       "      <td>21209.00</td>\n",
       "    </tr>\n",
       "    <tr>\n",
       "      <th>3</th>\n",
       "      <td>20356.00</td>\n",
       "    </tr>\n",
       "    <tr>\n",
       "      <th>4</th>\n",
       "      <td>18776.00</td>\n",
       "    </tr>\n",
       "  </tbody>\n",
       "</table>\n",
       "</div>"
      ],
      "text/plain": [
       "      Consumption\n",
       "index            \n",
       "0        32597.00\n",
       "1        26196.00\n",
       "2        21209.00\n",
       "3        20356.00\n",
       "4        18776.00"
      ]
     },
     "execution_count": 127,
     "metadata": {},
     "output_type": "execute_result"
    }
   ],
   "source": [
    "consumption_value_df = pd.Series(consumption_value).str.strip().rename_axis(\"index\").rename(\"Consumption\")\n",
    "consumption_value_df.to_frame().head()"
   ]
  },
  {
   "cell_type": "code",
   "execution_count": 128,
   "metadata": {},
   "outputs": [],
   "source": [
    "consumption_df = pd.merge(consumption_country_df,consumption_value_df, on=\"index\").set_index(\"Country\")\n",
    "consumption_df = consumption_df.astype(float)/1000"
   ]
  },
  {
   "cell_type": "code",
   "execution_count": 133,
   "metadata": {},
   "outputs": [
    {
     "data": {
      "text/html": [
       "<div>\n",
       "<style scoped>\n",
       "    .dataframe tbody tr th:only-of-type {\n",
       "        vertical-align: middle;\n",
       "    }\n",
       "\n",
       "    .dataframe tbody tr th {\n",
       "        vertical-align: top;\n",
       "    }\n",
       "\n",
       "    .dataframe thead th {\n",
       "        text-align: right;\n",
       "    }\n",
       "</style>\n",
       "<table border=\"1\" class=\"dataframe\">\n",
       "  <thead>\n",
       "    <tr style=\"text-align: right;\">\n",
       "      <th></th>\n",
       "      <th>Wine Production</th>\n",
       "      <th>CODES</th>\n",
       "      <th>Largest Vineyards</th>\n",
       "      <th>Exports_Values</th>\n",
       "      <th>Exports</th>\n",
       "      <th>Imports_Values</th>\n",
       "      <th>Imports</th>\n",
       "      <th>Consumption</th>\n",
       "    </tr>\n",
       "    <tr>\n",
       "      <th>Country</th>\n",
       "      <th></th>\n",
       "      <th></th>\n",
       "      <th></th>\n",
       "      <th></th>\n",
       "      <th></th>\n",
       "      <th></th>\n",
       "      <th></th>\n",
       "      <th></th>\n",
       "    </tr>\n",
       "  </thead>\n",
       "  <tbody>\n",
       "    <tr>\n",
       "      <th>Italy</th>\n",
       "      <td>54.8</td>\n",
       "      <td>ITA</td>\n",
       "      <td>702</td>\n",
       "      <td>4.771361e+09</td>\n",
       "      <td>22.285897</td>\n",
       "      <td>6.857568e+07</td>\n",
       "      <td>18.043449</td>\n",
       "      <td>21.209</td>\n",
       "    </tr>\n",
       "    <tr>\n",
       "      <th>France</th>\n",
       "      <td>49.1</td>\n",
       "      <td>FRA</td>\n",
       "      <td>789</td>\n",
       "      <td>5.804651e+09</td>\n",
       "      <td>22.481925</td>\n",
       "      <td>4.622402e+08</td>\n",
       "      <td>19.951595</td>\n",
       "      <td>26.196</td>\n",
       "    </tr>\n",
       "    <tr>\n",
       "      <th>Spain</th>\n",
       "      <td>44.4</td>\n",
       "      <td>ESP</td>\n",
       "      <td>969</td>\n",
       "      <td>2.054743e+09</td>\n",
       "      <td>21.443417</td>\n",
       "      <td>8.431718e+07</td>\n",
       "      <td>18.250096</td>\n",
       "      <td>9.445</td>\n",
       "    </tr>\n",
       "    <tr>\n",
       "      <th>United States</th>\n",
       "      <td>23.9</td>\n",
       "      <td>USA</td>\n",
       "      <td>430</td>\n",
       "      <td>1.288961e+09</td>\n",
       "      <td>20.977102</td>\n",
       "      <td>4.646537e+09</td>\n",
       "      <td>22.259388</td>\n",
       "      <td>32.597</td>\n",
       "    </tr>\n",
       "    <tr>\n",
       "      <th>Argentina</th>\n",
       "      <td>14.5</td>\n",
       "      <td>ARG</td>\n",
       "      <td>219</td>\n",
       "      <td>7.700278e+08</td>\n",
       "      <td>20.461937</td>\n",
       "      <td>2.563509e+06</td>\n",
       "      <td>14.756888</td>\n",
       "      <td>9.351</td>\n",
       "    </tr>\n",
       "  </tbody>\n",
       "</table>\n",
       "</div>"
      ],
      "text/plain": [
       "              Wine Production CODES Largest Vineyards  Exports_Values  \\\n",
       "Country                                                                 \n",
       "Italy                    54.8   ITA               702    4.771361e+09   \n",
       "France                   49.1   FRA               789    5.804651e+09   \n",
       "Spain                    44.4   ESP               969    2.054743e+09   \n",
       "United States            23.9   USA               430    1.288961e+09   \n",
       "Argentina                14.5   ARG               219    7.700278e+08   \n",
       "\n",
       "                 Exports  Imports_Values    Imports  Consumption  \n",
       "Country                                                           \n",
       "Italy          22.285897    6.857568e+07  18.043449       21.209  \n",
       "France         22.481925    4.622402e+08  19.951595       26.196  \n",
       "Spain          21.443417    8.431718e+07  18.250096        9.445  \n",
       "United States  20.977102    4.646537e+09  22.259388       32.597  \n",
       "Argentina      20.461937    2.563509e+06  14.756888        9.351  "
      ]
     },
     "execution_count": 133,
     "metadata": {},
     "output_type": "execute_result"
    }
   ],
   "source": [
    "world_wine_data = pd.merge(world_wine_import, consumption_df, on=\"Country\", how=\"left\").fillna(0)\n",
    "world_wine_data.head()"
   ]
  },
  {
   "cell_type": "code",
   "execution_count": 134,
   "metadata": {},
   "outputs": [],
   "source": [
    "world_wine_data['Exports_Values']  = world_wine_data['Exports_Values'].astype(object).map('${:,.2f}'.format)\n",
    "world_wine_data['Imports_Values']  = world_wine_data['Imports_Values'].astype(object).map('${:,.2f}'.format)"
   ]
  },
  {
   "cell_type": "code",
   "execution_count": 135,
   "metadata": {},
   "outputs": [
    {
     "data": {
      "text/html": [
       "<div>\n",
       "<style scoped>\n",
       "    .dataframe tbody tr th:only-of-type {\n",
       "        vertical-align: middle;\n",
       "    }\n",
       "\n",
       "    .dataframe tbody tr th {\n",
       "        vertical-align: top;\n",
       "    }\n",
       "\n",
       "    .dataframe thead th {\n",
       "        text-align: right;\n",
       "    }\n",
       "</style>\n",
       "<table border=\"1\" class=\"dataframe\">\n",
       "  <thead>\n",
       "    <tr style=\"text-align: right;\">\n",
       "      <th></th>\n",
       "      <th>Wine Production</th>\n",
       "      <th>CODES</th>\n",
       "      <th>Largest Vineyards</th>\n",
       "      <th>Exports_Values</th>\n",
       "      <th>Exports</th>\n",
       "      <th>Imports_Values</th>\n",
       "      <th>Imports</th>\n",
       "      <th>Consumption</th>\n",
       "    </tr>\n",
       "    <tr>\n",
       "      <th>Country</th>\n",
       "      <th></th>\n",
       "      <th></th>\n",
       "      <th></th>\n",
       "      <th></th>\n",
       "      <th></th>\n",
       "      <th></th>\n",
       "      <th></th>\n",
       "      <th></th>\n",
       "    </tr>\n",
       "  </thead>\n",
       "  <tbody>\n",
       "    <tr>\n",
       "      <th>Italy</th>\n",
       "      <td>54.8</td>\n",
       "      <td>ITA</td>\n",
       "      <td>702</td>\n",
       "      <td>$4,771,361,172.94</td>\n",
       "      <td>22.285897</td>\n",
       "      <td>$68,575,684.80</td>\n",
       "      <td>18.043449</td>\n",
       "      <td>21.209</td>\n",
       "    </tr>\n",
       "    <tr>\n",
       "      <th>France</th>\n",
       "      <td>49.1</td>\n",
       "      <td>FRA</td>\n",
       "      <td>789</td>\n",
       "      <td>$5,804,650,668.68</td>\n",
       "      <td>22.481925</td>\n",
       "      <td>$462,240,240.98</td>\n",
       "      <td>19.951595</td>\n",
       "      <td>26.196</td>\n",
       "    </tr>\n",
       "    <tr>\n",
       "      <th>Spain</th>\n",
       "      <td>44.4</td>\n",
       "      <td>ESP</td>\n",
       "      <td>969</td>\n",
       "      <td>$2,054,743,135.27</td>\n",
       "      <td>21.443417</td>\n",
       "      <td>$84,317,181.86</td>\n",
       "      <td>18.250096</td>\n",
       "      <td>9.445</td>\n",
       "    </tr>\n",
       "    <tr>\n",
       "      <th>United States</th>\n",
       "      <td>23.9</td>\n",
       "      <td>USA</td>\n",
       "      <td>430</td>\n",
       "      <td>$1,288,960,997.30</td>\n",
       "      <td>20.977102</td>\n",
       "      <td>$4,646,536,989.52</td>\n",
       "      <td>22.259388</td>\n",
       "      <td>32.597</td>\n",
       "    </tr>\n",
       "    <tr>\n",
       "      <th>Argentina</th>\n",
       "      <td>14.5</td>\n",
       "      <td>ARG</td>\n",
       "      <td>219</td>\n",
       "      <td>$770,027,827.77</td>\n",
       "      <td>20.461937</td>\n",
       "      <td>$2,563,509.00</td>\n",
       "      <td>14.756888</td>\n",
       "      <td>9.351</td>\n",
       "    </tr>\n",
       "    <tr>\n",
       "      <th>...</th>\n",
       "      <td>...</td>\n",
       "      <td>...</td>\n",
       "      <td>...</td>\n",
       "      <td>...</td>\n",
       "      <td>...</td>\n",
       "      <td>...</td>\n",
       "      <td>...</td>\n",
       "      <td>...</td>\n",
       "    </tr>\n",
       "    <tr>\n",
       "      <th>Wallis and Futuna</th>\n",
       "      <td>0</td>\n",
       "      <td>WLF</td>\n",
       "      <td>0</td>\n",
       "      <td>$0.00</td>\n",
       "      <td>0.000000</td>\n",
       "      <td>$0.00</td>\n",
       "      <td>0.000000</td>\n",
       "      <td>0.000</td>\n",
       "    </tr>\n",
       "    <tr>\n",
       "      <th>Samoa</th>\n",
       "      <td>0</td>\n",
       "      <td>WSM</td>\n",
       "      <td>0</td>\n",
       "      <td>$8,868.00</td>\n",
       "      <td>9.090205</td>\n",
       "      <td>$15,400.14</td>\n",
       "      <td>9.642132</td>\n",
       "      <td>0.000</td>\n",
       "    </tr>\n",
       "    <tr>\n",
       "      <th>Yemen</th>\n",
       "      <td>0</td>\n",
       "      <td>YEM</td>\n",
       "      <td>0</td>\n",
       "      <td>$0.00</td>\n",
       "      <td>0.000000</td>\n",
       "      <td>$0.00</td>\n",
       "      <td>0.000000</td>\n",
       "      <td>0.000</td>\n",
       "    </tr>\n",
       "    <tr>\n",
       "      <th>Zambia</th>\n",
       "      <td>0</td>\n",
       "      <td>ZMB</td>\n",
       "      <td>0</td>\n",
       "      <td>$289,584.00</td>\n",
       "      <td>12.576201</td>\n",
       "      <td>$2,519,971.00</td>\n",
       "      <td>14.739758</td>\n",
       "      <td>0.000</td>\n",
       "    </tr>\n",
       "    <tr>\n",
       "      <th>Zimbabwe</th>\n",
       "      <td>0</td>\n",
       "      <td>ZWE</td>\n",
       "      <td>0</td>\n",
       "      <td>$29,453.00</td>\n",
       "      <td>10.290551</td>\n",
       "      <td>$2,639,371.00</td>\n",
       "      <td>14.786051</td>\n",
       "      <td>0.000</td>\n",
       "    </tr>\n",
       "  </tbody>\n",
       "</table>\n",
       "<p>249 rows × 8 columns</p>\n",
       "</div>"
      ],
      "text/plain": [
       "                  Wine Production CODES Largest Vineyards     Exports_Values  \\\n",
       "Country                                                                        \n",
       "Italy                        54.8   ITA               702  $4,771,361,172.94   \n",
       "France                       49.1   FRA               789  $5,804,650,668.68   \n",
       "Spain                        44.4   ESP               969  $2,054,743,135.27   \n",
       "United States                23.9   USA               430  $1,288,960,997.30   \n",
       "Argentina                    14.5   ARG               219    $770,027,827.77   \n",
       "...                           ...   ...               ...                ...   \n",
       "Wallis and Futuna               0   WLF                 0              $0.00   \n",
       "Samoa                           0   WSM                 0          $8,868.00   \n",
       "Yemen                           0   YEM                 0              $0.00   \n",
       "Zambia                          0   ZMB                 0        $289,584.00   \n",
       "Zimbabwe                        0   ZWE                 0         $29,453.00   \n",
       "\n",
       "                     Exports     Imports_Values    Imports  Consumption  \n",
       "Country                                                                  \n",
       "Italy              22.285897     $68,575,684.80  18.043449       21.209  \n",
       "France             22.481925    $462,240,240.98  19.951595       26.196  \n",
       "Spain              21.443417     $84,317,181.86  18.250096        9.445  \n",
       "United States      20.977102  $4,646,536,989.52  22.259388       32.597  \n",
       "Argentina          20.461937      $2,563,509.00  14.756888        9.351  \n",
       "...                      ...                ...        ...          ...  \n",
       "Wallis and Futuna   0.000000              $0.00   0.000000        0.000  \n",
       "Samoa               9.090205         $15,400.14   9.642132        0.000  \n",
       "Yemen               0.000000              $0.00   0.000000        0.000  \n",
       "Zambia             12.576201      $2,519,971.00  14.739758        0.000  \n",
       "Zimbabwe           10.290551      $2,639,371.00  14.786051        0.000  \n",
       "\n",
       "[249 rows x 8 columns]"
      ]
     },
     "execution_count": 135,
     "metadata": {},
     "output_type": "execute_result"
    }
   ],
   "source": [
    "world_wine_data"
   ]
  },
  {
   "cell_type": "code",
   "execution_count": 136,
   "metadata": {},
   "outputs": [],
   "source": [
    "world_wine_data.to_csv(\"world_wine_data.csv\")"
   ]
  },
  {
   "cell_type": "code",
   "execution_count": null,
   "metadata": {},
   "outputs": [],
   "source": []
  },
  {
   "cell_type": "code",
   "execution_count": null,
   "metadata": {},
   "outputs": [],
   "source": []
  },
  {
   "cell_type": "code",
   "execution_count": null,
   "metadata": {},
   "outputs": [],
   "source": []
  },
  {
   "cell_type": "code",
   "execution_count": null,
   "metadata": {},
   "outputs": [],
   "source": []
  }
 ],
 "metadata": {
  "kernelspec": {
   "display_name": "project_2",
   "language": "python",
   "name": "project_2"
  },
  "language_info": {
   "codemirror_mode": {
    "name": "ipython",
    "version": 3
   },
   "file_extension": ".py",
   "mimetype": "text/x-python",
   "name": "python",
   "nbconvert_exporter": "python",
   "pygments_lexer": "ipython3",
   "version": "3.7.5"
  }
 },
 "nbformat": 4,
 "nbformat_minor": 4
}
