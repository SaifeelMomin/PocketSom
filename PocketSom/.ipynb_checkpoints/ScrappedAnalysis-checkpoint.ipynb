{
 "cells": [
  {
   "cell_type": "code",
   "execution_count": 1,
   "metadata": {},
   "outputs": [],
   "source": [
    "import pandas as pd"
   ]
  },
  {
   "cell_type": "code",
   "execution_count": null,
   "metadata": {},
   "outputs": [],
   "source": [
    "# recipes database\n",
    "df_recipes = pd.read_csv(\"raw_recipes.csv\")\n",
    "df_recipes = df_recipes.drop(df_recipes.index[721])"
   ]
  },
  {
   "cell_type": "code",
   "execution_count": 2,
   "metadata": {},
   "outputs": [],
   "source": [
    "# scraped wp database\n",
    "df_wp = pd.read_csv(\"winePairing.csv\")\n",
    "df_wp = df_wp.rename({'Unnamed: 0': \"Pairing\"}, axis = 1 )\n",
    "df_wp = df_wp.set_index(\"Pairing\")\n",
    "df_wp.columns = [\"category\", \"beverage\", 'food', 'rating']"
   ]
  },
  {
   "cell_type": "code",
   "execution_count": 3,
   "metadata": {},
   "outputs": [],
   "source": [
    "# pulling only wines from scrapped db \n",
    "wine_types = ['White Wine', 'Dessert Wine', 'Sherry', 'Rosé', 'Red Wine', 'Sparkling Wine', 'Fortified Wine', 'R Wine Brand', 'W Wine Brand']\n",
    "df_wines = df_wp[df_wp['category'].isin(wine_types)]"
   ]
  },
  {
   "cell_type": "code",
   "execution_count": 4,
   "metadata": {},
   "outputs": [],
   "source": [
    "#loading matched recipes \n",
    "df_recipe_wp = pd.read_csv(\"df_tempData.csv\")\n",
    "df_recipe_wp = df_recipe_wp.rename({0:'recipe'}, axis = 0)\n",
    "df_recipe_wp.columns = ['rNum', 'recipe', 'nutrition', 'ingred', 'ingr_count']"
   ]
  },
  {
   "cell_type": "code",
   "execution_count": 59,
   "metadata": {},
   "outputs": [],
   "source": [
    "# building columns for main db \n",
    "r_names = [r for r in df_dict['recipeName'].values]\n",
    "r_nutr = [r for r in df_dict['nutrition'].values]\n",
    "r_ingr = [r for r in df_dict['ingred'].values]\n",
    "r_ingr_c = [r for r in df_dict['ingr_count'].values]\n",
    "\n",
    "w_categ = [w for w in df_wines['category'].values ]\n",
    "w_bev = [w for w in df_wines['beverage'].values ]\n",
    "w_food = [w for w in df_wines['food'].values ]\n",
    "w_rate = [w for w in df_wines['rating'].values ]\n",
    "\n",
    "df_dict = {'category': w_categ,'beverage':w_bev,\n",
    "          'food':w_food, 'rating':w_rate,\n",
    "          'recipeName':r_names, 'nutrition':r_nutr,\n",
    "          'ingred':r_ingr,'ingr_count':r_ingr_c}"
   ]
  },
  {
   "cell_type": "code",
   "execution_count": 63,
   "metadata": {},
   "outputs": [],
   "source": [
    "df_wine_ingr = pd.DataFrame(df_dict)\n",
    "df_wine_ingr.to_csv(\"df_main.csv\")"
   ]
  }
 ],
 "metadata": {
  "kernelspec": {
   "display_name": "project2-kern",
   "language": "python",
   "name": "python3"
  },
  "language_info": {
   "codemirror_mode": {
    "name": "ipython",
    "version": 3
   },
   "file_extension": ".py",
   "mimetype": "text/x-python",
   "name": "python",
   "nbconvert_exporter": "python",
   "pygments_lexer": "ipython3",
   "version": "3.8.0"
  }
 },
 "nbformat": 4,
 "nbformat_minor": 4
}
